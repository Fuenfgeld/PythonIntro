{
  "nbformat": 4,
  "nbformat_minor": 0,
  "metadata": {
    "colab": {
      "private_outputs": true,
      "provenance": [],
      "authorship_tag": "ABX9TyMfXrn8Nu7am/1fi1oe6pwc",
      "include_colab_link": true
    },
    "kernelspec": {
      "name": "python3",
      "display_name": "Python 3"
    },
    "language_info": {
      "name": "python"
    }
  },
  "cells": [
    {
      "cell_type": "markdown",
      "metadata": {
        "id": "view-in-github",
        "colab_type": "text"
      },
      "source": [
        "<a href=\"https://colab.research.google.com/github/Fuenfgeld/PythonIntro/blob/main/ExerciseSolution/SolutionFunctionsFileHandelingModulesPackages.ipynb\" target=\"_parent\"><img src=\"https://colab.research.google.com/assets/colab-badge.svg\" alt=\"Open In Colab\"/></a>"
      ]
    },
    {
      "cell_type": "markdown",
      "source": [
        "### Exercises\n",
        "#### Exercise 1: Easy\n",
        "Create a function called count_symptoms that takes a list of symptoms and returns a dictionary containing the count of each symptom."
      ],
      "metadata": {
        "id": "lc-LQoSy8oM_"
      }
    },
    {
      "cell_type": "code",
      "execution_count": null,
      "metadata": {
        "id": "n9_7CMsU8ejA"
      },
      "outputs": [],
      "source": [
        "def count_symptoms(symptoms):\n",
        "    symptom_count = {}\n",
        "    for symptom in symptoms:\n",
        "        symptom_count[symptom] = symptom_count.get(symptom, 0) + 1\n",
        "    return symptom_count\n",
        "\n",
        "symptom_list = [\"fever\", \"headache\", \"nausea\", \"headache\", \"fever\", \"nausea\", \"cough\"]\n",
        "\n",
        "symptom_count_result = count_symptoms(symptom_list)\n",
        "print(symptom_count_result)"
      ]
    },
    {
      "cell_type": "markdown",
      "source": [
        "\n",
        "### Exercise 2: Medium\n",
        "\n",
        "Create a function called `group_patients_by_age` that takes a dictionary where the keys are patient names and the values are ages. The function should return a new dictionary where the keys are age ranges (as tuples) and the values are lists of patients in those age ranges."
      ],
      "metadata": {
        "id": "RG0GzDNz8-XM"
      }
    },
    {
      "cell_type": "code",
      "source": [
        "def group_patients_by_age(patients):\n",
        "    age_groups = {}\n",
        "    for name, age in patients.items():\n",
        "        if age < 30:\n",
        "            age_range = (0, 29)\n",
        "        elif age < 50:\n",
        "            age_range = (30, 49)\n",
        "        else:\n",
        "            age_range = (50, 120)\n",
        "\n",
        "        if age_range not in age_groups:\n",
        "            age_groups[age_range] = []\n",
        "        age_groups[age_range].append(name)\n",
        "    return age_groups\n",
        "\n",
        "patients = {\n",
        "    \"Alice\": 25,\n",
        "    \"Bob\": 35,\n",
        "    \"Carol\": 60,\n",
        "    \"David\": 28,\n",
        "    \"Eve\": 50,\n",
        "    \"Frank\": 45\n",
        "}\n",
        "\n",
        "patient_groups = group_patients_by_age(patients)\n",
        "print(patient_groups)"
      ],
      "metadata": {
        "id": "ilyMXTnJ8-2f"
      },
      "execution_count": null,
      "outputs": []
    },
    {
      "cell_type": "markdown",
      "source": [
        "### Exercise 3: Hard\n",
        "Create a function called analyze_heart_rates that takes a list of heart rates and calculates the minimum, maximum, and average heart rate. The function should return a dictionary with these values."
      ],
      "metadata": {
        "id": "KEL2rg-f9QTD"
      }
    },
    {
      "cell_type": "code",
      "source": [
        "def analyze_heart_rates(heart_rates):\n",
        "    min_heart_rate = min(heart_rates)\n",
        "    max_heart_rate = max(heart_rates)\n",
        "    avg_heart_rate = sum(heart_rates) / len(heart_rates)\n",
        "    return {\n",
        "        \"min\": min_heart_rate,\n",
        "        \"max\": max_heart_rate,\n",
        "        \"avg\": avg_heart_rate\n",
        "    }\n",
        "\n",
        "heart_rates = [80, 90, 85, 100, 95, 88, 92]\n",
        "\n",
        "heart_rate_analysis = analyze_heart_rates(heart_rates)\n",
        "print(heart_rate_analysis)\n"
      ],
      "metadata": {
        "id": "77vLqD_y9WtH"
      },
      "execution_count": null,
      "outputs": []
    }
  ]
}