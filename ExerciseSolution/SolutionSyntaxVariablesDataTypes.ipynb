{
  "nbformat": 4,
  "nbformat_minor": 0,
  "metadata": {
    "colab": {
      "provenance": [],
      "authorship_tag": "ABX9TyNB8l0dshWLwydIzfGHfkRu",
      "include_colab_link": true
    },
    "kernelspec": {
      "name": "python3",
      "display_name": "Python 3"
    },
    "language_info": {
      "name": "python"
    }
  },
  "cells": [
    {
      "cell_type": "markdown",
      "metadata": {
        "id": "view-in-github",
        "colab_type": "text"
      },
      "source": [
        "<a href=\"https://colab.research.google.com/github/Fuenfgeld/PythonIntro/blob/main/ExerciseSolution/SolutionSyntaxVariablesDataTypes.ipynb\" target=\"_parent\"><img src=\"https://colab.research.google.com/assets/colab-badge.svg\" alt=\"Open In Colab\"/></a>"
      ]
    },
    {
      "cell_type": "markdown",
      "source": [
        "### To initialize the code click Runtime and then Run all\n",
        "<img src=\"https://github.com/Fuenfgeld/PythonIntro/raw/main/img/RunAll.png\" width=\"520\" height=\"132\" alt=\"Run All\"/>\n"
      ],
      "metadata": {
        "id": "nD-du45I4nbz"
      }
    },
    {
      "cell_type": "markdown",
      "source": [
        "# Solutions to the Excercises in SyntaxVariablesDataTypes.ipynb"
      ],
      "metadata": {
        "id": "8oX0Ziq25Euk"
      }
    },
    {
      "cell_type": "markdown",
      "source": [
        "## Functions\n",
        "\n",
        "### Exercise 1:\n",
        "Create a function that calculates a patient's BMI (Body Mass Index) and returns the corresponding BMI category according to the World Health Organization (WHO) guidelines:\n",
        "\n",
        "Underweight: BMI < 18.5\n",
        "Normal: 18.5 <= BMI < 24.9\n",
        "Overweight: 25 <= BMI < 29.9\n",
        "Obesity (Class I): 30 <= BMI < 34.9\n",
        "Obesity (Class II): 35 <= BMI < 39.9\n",
        "Obesity (Class III): BMI >= 40\n",
        "Function signature: def bmi_category(height: float, weight: float) -> str:\n",
        "\n",
        "Solution:"
      ],
      "metadata": {
        "id": "o6yQCeGmrZ-r"
      }
    },
    {
      "cell_type": "code",
      "execution_count": null,
      "metadata": {
        "id": "-a4CFxjgrGPp"
      },
      "outputs": [],
      "source": [
        "def bmi_category(height: float, weight: float) -> str:\n",
        "    bmi = weight / (height * height)\n",
        "    \n",
        "    if bmi < 18.5:\n",
        "        return \"Underweight\"\n",
        "    elif 18.5 <= bmi < 24.9:\n",
        "        return \"Normal\"\n",
        "    elif 25 <= bmi < 29.9:\n",
        "        return \"Overweight\"\n",
        "    elif 30 <= bmi < 34.9:\n",
        "        return \"Obesity (Class I)\"\n",
        "    elif 35 <= bmi < 39.9:\n",
        "        return \"Obesity (Class II)\"\n",
        "    else:\n",
        "        return \"Obesity (Class III)\"\n",
        "\n",
        "height = 1.75\n",
        "weight = 70\n",
        "\n",
        "category = bmi_category(height, weight)\n",
        "print(f\"The patient's BMI category is: {category}\")\n"
      ]
    },
    {
      "cell_type": "markdown",
      "source": [
        "### Exercise 2:\n",
        "\n",
        "Create a function that calculates a patient's target heart rate during exercise based on their age and resting heart rate. The function should return a tuple containing the target heart rates for low-intensity (50% intensity) and high-intensity (85% intensity) exercises.\n",
        "\n",
        "Function signature: def target_heart_rate(age: int, resting_heart_rate: int) -> tuple:\n",
        "\n",
        "Solution:"
      ],
      "metadata": {
        "id": "RWlK2oEgrpjE"
      }
    },
    {
      "cell_type": "code",
      "source": [
        "def target_heart_rate(age: int, resting_heart_rate: int) -> tuple:\n",
        "    max_heart_rate = 220 - age\n",
        "    \n",
        "    low_intensity_target = (max_heart_rate - resting_heart_rate) * 0.5 + resting_heart_rate\n",
        "    high_intensity_target = (max_heart_rate - resting_heart_rate) * 0.85 + resting_heart_rate\n",
        "    \n",
        "    return (low_intensity_target, high_intensity_target)\n",
        "\n",
        "age = 35\n",
        "resting_heart_rate = 70\n",
        "\n",
        "low_target, high_target = target_heart_rate(age, resting_heart_rate)\n",
        "print(f\"Target heart rate for low-intensity exercise: {low_target} bpm\")\n",
        "print(f\"Target heart rate for high-intensity exercise: {high_target} bpm\")"
      ],
      "metadata": {
        "id": "AVUiQ-jKrsmb"
      },
      "execution_count": null,
      "outputs": []
    },
    {
      "cell_type": "markdown",
      "source": [
        "## Conditionals\n",
        "### Exercise 1:\n",
        "\n",
        "A patient's blood sugar level is an important measure in diagnosing and treating diabetes. Create a Python script that categorizes a patient's fasting blood sugar level using the following guidelines:\n",
        "\n",
        "Normal: blood sugar level < 100 mg/dL\n",
        "Prediabetes: 100 mg/dL <= blood sugar level < 126 mg/dL\n",
        "Diabetes: blood sugar level >= 126 mg/dL\n"
      ],
      "metadata": {
        "id": "I7UprAfOsW1x"
      }
    },
    {
      "cell_type": "code",
      "source": [
        "blood_sugar_level = 130\n",
        "\n",
        "if blood_sugar_level < 100:\n",
        "    print(\"Normal\")\n",
        "elif 100 <= blood_sugar_level < 126:\n",
        "    print(\"Prediabetes\")\n",
        "else:\n",
        "    print(\"Diabetes\")\n"
      ],
      "metadata": {
        "id": "usjg7IrguZoM"
      },
      "execution_count": null,
      "outputs": []
    },
    {
      "cell_type": "markdown",
      "source": [
        "### Exercise 2:\n",
        "A patient's blood test results include the counts of red blood cells (RBC), white blood cells (WBC), and platelets. These values can help diagnose various medical conditions. Create a Python script that checks if any of these counts are abnormal based on the following guidelines:\n",
        "\n",
        "Abnormal RBC count: RBC < 4.5 million/µL OR RBC > 6.0 million/µL\n",
        "Abnormal WBC count: WBC < 4,000/µL OR WBC > 11,000/µL\n",
        "Abnormal platelet count: platelets < 150,000/µL OR platelets > 450,000/µL"
      ],
      "metadata": {
        "id": "Qtv9yWJSub8M"
      }
    },
    {
      "cell_type": "code",
      "source": [
        "rbc_count = 4.0  # million/µL\n",
        "wbc_count = 12000  # /µL\n",
        "platelet_count = 100000  # /µL\n",
        "\n",
        "abnormal_rbc = rbc_count < 4.5 or rbc_count > 6.0\n",
        "abnormal_wbc = wbc_count < 4000 or wbc_count > 11000\n",
        "abnormal_platelet = platelet_count < 150000 or platelet_count > 450000\n",
        "\n",
        "if abnormal_rbc or abnormal_wbc or abnormal_platelet:\n",
        "    print(\"Abnormal blood test results:\")\n",
        "    if abnormal_rbc:\n",
        "        print(f\"- Abnormal RBC count: {rbc_count} million/µL\")\n",
        "    if abnormal_wbc:\n",
        "        print(f\"- Abnormal WBC count: {wbc_count}/µL\")\n",
        "    if abnormal_platelet:\n",
        "        print(f\"- Abnormal platelet count: {platelet_count}/µL\")\n",
        "else:\n",
        "    print(\"Blood test results are within normal ranges.\")"
      ],
      "metadata": {
        "id": "PmsSQej3u6e3"
      },
      "execution_count": null,
      "outputs": []
    },
    {
      "cell_type": "markdown",
      "source": [
        "## Loops\n",
        "### Exercise 1:\n",
        "\n",
        "Create a Python script that prints the multiples of 7 between 1 and 100, which are commonly used for counting weeks in various healthcare settings (e.g., tracking pregnancy progress).\n",
        "\n",
        "Solution:"
      ],
      "metadata": {
        "id": "c2Eijs41wVxA"
      }
    },
    {
      "cell_type": "code",
      "source": [
        "for i in range(1, 101):\n",
        "    if i % 7 == 0:\n",
        "        print(i)"
      ],
      "metadata": {
        "id": "_9ldZFojwd_D"
      },
      "execution_count": null,
      "outputs": []
    },
    {
      "cell_type": "markdown",
      "source": [
        "### Exercise 2\n",
        "\n",
        "A patient needs to drink water every 2 hours to stay hydrated. Create a Python script that calculates the total number of times the patient needs to drink water in a week.\n",
        "\n",
        "Solution:"
      ],
      "metadata": {
        "id": "FW7TZGb_w5y4"
      }
    },
    {
      "cell_type": "code",
      "source": [
        "hours_in_a_day = 24\n",
        "days_in_a_week = 7\n",
        "hours_in_a_week = hours_in_a_day * days_in_a_week\n",
        "drinking_interval = 2\n",
        "\n",
        "current_hour = 0\n",
        "total_drinking_times = 0\n",
        "\n",
        "while current_hour < hours_in_a_week:\n",
        "    total_drinking_times += 1\n",
        "    current_hour += drinking_interval\n",
        "\n",
        "print(f\"The patient needs to drink water {total_drinking_times} times in a week.\")\n"
      ],
      "metadata": {
        "id": "tf65u7D5w-b3"
      },
      "execution_count": null,
      "outputs": []
    },
    {
      "cell_type": "markdown",
      "source": [
        "### Exercise 3: \n",
        "\n",
        "A patient has a series of heart rate readings taken at regular intervals. Create a Python script that calculates the average heart rate and identifies any readings that are more than 10 beats per minute (bpm) above or below the average. These readings may indicate irregularities in the patient's heart rate.\n",
        "\n",
        "Solution:"
      ],
      "metadata": {
        "id": "Q_o0-M4CxGiC"
      }
    },
    {
      "cell_type": "code",
      "source": [
        "heart_rate_readings = [75, 82, 68, 90, 72, 95, 65, 80]\n",
        "\n",
        "# Calculate the average heart rate\n",
        "total_readings = len(heart_rate_readings)\n",
        "sum_of_readings = 0\n",
        "for reading in heart_rate_readings:\n",
        "    sum_of_readings += reading\n",
        "\n",
        "average_heart_rate = sum_of_readings / total_readings\n",
        "\n",
        "# Find irregular readings\n",
        "irregular_readings = []\n",
        "for reading in heart_rate_readings:\n",
        "    if abs(reading - average_heart_rate) > 10:\n",
        "        irregular_readings.append(reading)\n",
        "\n",
        "print(f\"Average heart rate: {average_heart_rate:.1f} bpm\")\n",
        "print(f\"Irregular heart rate readings: {irregular_readings}\")"
      ],
      "metadata": {
        "id": "2tYtsTdkxLaH"
      },
      "execution_count": null,
      "outputs": []
    },
    {
      "cell_type": "markdown",
      "source": [
        "## Variables\n",
        "### Exercise 1:\n",
        "\n",
        "A patient has a target daily step count for maintaining an active lifestyle. Create a Python script that calculates the total number of steps the patient needs to take in a month.\n",
        "\n",
        "Solution:"
      ],
      "metadata": {
        "id": "cBy4agrnzRpM"
      }
    },
    {
      "cell_type": "code",
      "source": [
        "daily_step_target = 10000\n",
        "days_in_a_month = 30\n",
        "\n",
        "total_monthly_steps = daily_step_target * days_in_a_month\n",
        "print(f\"The patient needs to take {total_monthly_steps} steps in a month.\")\n"
      ],
      "metadata": {
        "id": "QyFVOZvGzYVO"
      },
      "execution_count": null,
      "outputs": []
    },
    {
      "cell_type": "markdown",
      "source": [
        "### Exercise 2:\n",
        "\n",
        "A patient needs to monitor their calorie intake to maintain a healthy diet. They have a target number of calories for each meal: breakfast, lunch, and dinner. Create a Python script that calculates the total number of calories the patient needs to consume in a week.\n",
        "\n",
        "Solution:"
      ],
      "metadata": {
        "id": "W4TldrZUzZ-3"
      }
    },
    {
      "cell_type": "code",
      "source": [
        "breakfast_calories = 500\n",
        "lunch_calories = 700\n",
        "dinner_calories = 800\n",
        "\n",
        "days_in_a_week = 7\n",
        "\n",
        "total_daily_calories = breakfast_calories + lunch_calories + dinner_calories\n",
        "total_weekly_calories = total_daily_calories * days_in_a_week\n",
        "\n",
        "print(f\"The patient needs to consume {total_weekly_calories} calories in a week.\")\n"
      ],
      "metadata": {
        "id": "ueJfpPBfzdZn"
      },
      "execution_count": null,
      "outputs": []
    },
    {
      "cell_type": "markdown",
      "source": [
        "### Exercise 3:\n",
        "\n",
        "A patient is tracking their sleep duration to improve their sleep habits. They have recorded the number of hours they slept each night for a week. Create a Python script that calculates the average sleep duration for the week and finds the nights where the patient's sleep duration was more than 1 hour above or below the average."
      ],
      "metadata": {
        "id": "8d32nSYfzfdu"
      }
    },
    {
      "cell_type": "code",
      "source": [
        "sleep_durations = [7.5, 6, 8, 5, 7, 9, 8.5]\n",
        "\n",
        "# Calculate the average sleep duration\n",
        "total_nights = len(sleep_durations)\n",
        "sum_of_durations = 0\n",
        "for duration in sleep_durations:\n",
        "    sum_of_durations += duration\n",
        "\n",
        "average_sleep_duration = sum_of_durations / total_nights\n",
        "\n",
        "# Find nights with sleep duration more than 1 hour above or below the average\n",
        "irregular_nights = []\n",
        "for night, duration in enumerate(sleep_durations, start=1):\n",
        "    if abs(duration - average_sleep_duration) > 1:\n",
        "        irregular_nights.append(night)\n",
        "\n",
        "print(f\"Average sleep duration: {average_sleep_duration:.1f} hours\")\n",
        "print(f\"Nights with irregular sleep duration: {irregular_nights}\")\n"
      ],
      "metadata": {
        "id": "Kasyp1SFzkzI"
      },
      "execution_count": null,
      "outputs": []
    },
    {
      "cell_type": "markdown",
      "source": [
        "## Data Types\n",
        "### Exercise 1:\n",
        "\n",
        "A patient records their weight in kilograms at the end of each week. Create a Python script that calculates the average weight over a given period using a list of recorded weights.\n",
        "\n",
        "Solution:"
      ],
      "metadata": {
        "id": "XUuAW9z60NuW"
      }
    },
    {
      "cell_type": "code",
      "source": [
        "weekly_weights = [80, 79, 78.5, 77, 76.5, 78, 77.5]\n",
        "\n",
        "# Calculate the average weight\n",
        "total_weeks = len(weekly_weights)\n",
        "sum_of_weights = sum(weekly_weights)\n",
        "\n",
        "average_weight = sum_of_weights / total_weeks\n",
        "print(f\"Average weight over the period: {average_weight:.1f} kg\")\n"
      ],
      "metadata": {
        "id": "_EDb2x6L0utj"
      },
      "execution_count": null,
      "outputs": []
    },
    {
      "cell_type": "markdown",
      "source": [
        "### Exercise 2:\n",
        "\n",
        "A patient tracks their daily medication intake using tuples, where the first element is the name of the medication and the second element is the number of times the medication is taken daily. Create a Python script that calculates the total number of medication doses taken in a week.\n",
        "\n",
        "Solution:"
      ],
      "metadata": {
        "id": "TNMJXstz0yb8"
      }
    },
    {
      "cell_type": "code",
      "source": [
        "daily_medications = [(\"Medication A\", 3), (\"Medication B\", 2), (\"Medication C\", 1)]\n",
        "\n",
        "days_in_a_week = 7\n",
        "total_weekly_doses = 0\n",
        "\n",
        "for medication, daily_doses in daily_medications:\n",
        "    total_weekly_doses += daily_doses * days_in_a_week\n",
        "\n",
        "print(f\"The patient takes a total of {total_weekly_doses} medication doses in a week.\")"
      ],
      "metadata": {
        "id": "miosF0Mm1yYE"
      },
      "execution_count": null,
      "outputs": []
    },
    {
      "cell_type": "markdown",
      "source": [
        "Exercise 3: Hard\n",
        "\n",
        "A patient wants to track their daily symptoms in a diary. Create a Python script that organizes the recorded symptoms using a dictionary, where the keys are dates and the values are sets of symptoms. Find the dates with the most common symptom.\n",
        "\n",
        "Solution:"
      ],
      "metadata": {
        "id": "i8SRk_pi36NP"
      }
    },
    {
      "cell_type": "code",
      "source": [
        "symptom_diary = {\n",
        "    \"2023-05-01\": {\"headache\", \"fatigue\", \"nausea\"},\n",
        "    \"2023-05-02\": {\"headache\", \"cough\", \"sore throat\"},\n",
        "    \"2023-05-03\": {\"fever\", \"headache\", \"fatigue\"},\n",
        "    \"2023-05-04\": {\"nausea\", \"fatigue\", \"sore throat\"},\n",
        "    \"2023-05-05\": {\"headache\", \"fever\", \"fatigue\"}\n",
        "}\n",
        "\n",
        "# Find the most common symptom\n",
        "symptom_count = {}\n",
        "for symptoms in symptom_diary.values():\n",
        "    for symptom in symptoms:\n",
        "        symptom_count[symptom] = symptom_count.get(symptom, 0) + 1\n",
        "\n",
        "most_common_symptom = max(symptom_count, key=symptom_count.get)\n",
        "\n",
        "# Find the dates with the most common symptom\n",
        "dates_with_most_common_symptom = []\n",
        "for date, symptoms in symptom_diary.items():\n",
        "    if most_common_symptom in symptoms:\n",
        "        dates_with_most_common_symptom.append(date)\n",
        "\n",
        "print(f\"Most common symptom: {most_common_symptom}\")\n",
        "print(f\"Dates with the most common symptom: {dates_with_most_common_symptom}\")"
      ],
      "metadata": {
        "id": "-P0kTYUl37Az"
      },
      "execution_count": null,
      "outputs": []
    }
  ]
}