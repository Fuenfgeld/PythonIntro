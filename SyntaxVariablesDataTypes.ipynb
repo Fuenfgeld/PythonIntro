{
  "nbformat": 4,
  "nbformat_minor": 0,
  "metadata": {
    "colab": {
      "provenance": [],
      "toc_visible": true,
      "authorship_tag": "ABX9TyO7/twdrO2cRsbH0R0pD/Sw",
      "include_colab_link": true
    },
    "kernelspec": {
      "name": "python3",
      "display_name": "Python 3"
    },
    "language_info": {
      "name": "python"
    }
  },
  "cells": [
    {
      "cell_type": "markdown",
      "metadata": {
        "id": "view-in-github",
        "colab_type": "text"
      },
      "source": [
        "<a href=\"https://colab.research.google.com/github/Fuenfgeld/PythonIntro/blob/main/SyntaxVariablesDataTypes.ipynb\" target=\"_parent\"><img src=\"https://colab.research.google.com/assets/colab-badge.svg\" alt=\"Open In Colab\"/></a>"
      ]
    },
    {
      "cell_type": "markdown",
      "source": [
        "### To initialize the code click Runtime and then Run all\n",
        "<img src=\"https://github.com/Fuenfgeld/PythonIntro/raw/main/img/RunAll.png\" width=\"520\" height=\"132\" alt=\"Run All\"/>"
      ],
      "metadata": {
        "id": "zM9WM-3n48ti"
      }
    },
    {
      "cell_type": "markdown",
      "source": [
        "\n",
        "# Introduction to Jupyter Notebook (Google Colab)"
      ],
      "metadata": {
        "id": "Z3c8CYr4gAv3"
      }
    },
    {
      "cell_type": "markdown",
      "source": [
        "Jupyter Notebook, or Google Colab as it's known within Google Drive, is an open-source web application that allows you to create and share documents that contain live code, equations, visualizations, and narrative text. It's a great tool for data cleaning and transformation, numerical simulation, statistical modeling, data visualization, machine learning, and much more.\n",
        "\n",
        "## How it Works\n",
        "A Jupyter notebook is composed of cells, each of which can be either a markdown cell for text, or a code cell for Python or other languages depending on your setup.\n",
        "\n",
        "* Text cells (Markdown): These are used for writing text, equations, and formatting with Markdown. They are executed by pressing Shift + Enter.\n",
        "\n",
        "* Code cells: These are used for writing and executing programming code. They can be run individually or all at once. When you run a code cell, the code is executed by the kernel associated with the notebook. The results that are returned from this computation are then displayed in the notebook as the cell's output.\n",
        "\n"
      ],
      "metadata": {
        "id": "AFmoIMoIgH31"
      }
    },
    {
      "cell_type": "markdown",
      "source": [
        "## Interactive Programming\n",
        "One of the key features of Jupyter Notebook is the ability to execute code in a step-by-step manner. You can run cells individually and in any order. Variables and functions that are defined in one cell can be used in other cells:"
      ],
      "metadata": {
        "id": "ZrVpZTK4gcHS"
      }
    },
    {
      "cell_type": "code",
      "source": [
        "# Cell 1\n",
        "a = 5"
      ],
      "metadata": {
        "id": "6kW50jKNgiFZ"
      },
      "execution_count": null,
      "outputs": []
    },
    {
      "cell_type": "code",
      "source": [
        "# Cell 2\n",
        "b = 10"
      ],
      "metadata": {
        "id": "fAaXLcY2gjrv"
      },
      "execution_count": null,
      "outputs": []
    },
    {
      "cell_type": "code",
      "source": [
        "# Cell 3\n",
        "print(a + b)"
      ],
      "metadata": {
        "id": "e-k7J_tPgkMM"
      },
      "execution_count": null,
      "outputs": []
    },
    {
      "cell_type": "markdown",
      "source": [
        "## Rich Display System\n",
        "Jupyter supports a rich set of output formats, including HTML, images, videos, and plots. You can visualize your data and results directly in the notebook:"
      ],
      "metadata": {
        "id": "6r0t4qUfgyko"
      }
    },
    {
      "cell_type": "code",
      "source": [
        "import matplotlib.pyplot as plt\n",
        "import numpy as np\n",
        "\n",
        "x = np.linspace(0, 10, 100)\n",
        "\n",
        "plt.plot(x, np.sin(x))\n",
        "plt.show()\n"
      ],
      "metadata": {
        "id": "olTn8EnIg7EE"
      },
      "execution_count": null,
      "outputs": []
    },
    {
      "cell_type": "markdown",
      "source": [
        "## Executing Shell Commands in Jupyter Notebook - 💻"
      ],
      "metadata": {
        "id": "CuTTX0muiVLM"
      }
    },
    {
      "cell_type": "markdown",
      "source": [
        "One of the many powerful features of Jupyter notebooks is the ability to mix interactive Python code with shell commands by using the ! character. This is very useful when you need to interact with the operating system or use command line tools alongside Python code.\n",
        "\n",
        "How to Use Shell Commands\n",
        "To execute a shell command in a Jupyter notebook, simply prefix the command with an exclamation point !.\n",
        "\n",
        "### Some Useful Commands\n",
        "* pwd: prints the current working directory.\n",
        "* cd: changes the current directory.\n",
        "* ls: lists files and directories in the current directory.\n",
        "* echo: outputs the strings it is being passed as arguments.\n",
        "* mkdir: creates a directory."
      ],
      "metadata": {
        "id": "8B4LUvNkiaTr"
      }
    },
    {
      "cell_type": "code",
      "source": [
        "# Print the current working directory\n",
        "!pwd\n",
        "\n",
        "# List files and directories in the current directory\n",
        "!ls\n",
        "\n",
        "# Output a string\n",
        "!echo \"Hello, world!\"\n",
        "\n",
        "# Create a directory\n",
        "!mkdir new_directory"
      ],
      "metadata": {
        "id": "U_2_mhTrijFn"
      },
      "execution_count": null,
      "outputs": []
    },
    {
      "cell_type": "markdown",
      "source": [
        "## Magic Commands\n",
        "Jupyter has a set of predefined 'magic functions' that you can call with a command line style syntax. These include:\n",
        "\n",
        "* %run: to run a python script as a program, with command line arguments passed as variables.\n",
        "* %load: to load the content of a file into a cell.\n",
        "* %who: to list all variables of global scope.\n",
        "* %%time: to time the execution of a cell.\n",
        "\n",
        "Example:"
      ],
      "metadata": {
        "id": "41AMOM3yhCJX"
      }
    },
    {
      "cell_type": "code",
      "source": [
        "%who"
      ],
      "metadata": {
        "id": "AC6q04cNhsP2"
      },
      "execution_count": null,
      "outputs": []
    },
    {
      "cell_type": "code",
      "source": [
        "%%time\n",
        "for i in range(10000):\n",
        "  pass"
      ],
      "metadata": {
        "id": "dhzCBMsGhTbw"
      },
      "execution_count": null,
      "outputs": []
    },
    {
      "cell_type": "markdown",
      "source": [
        "# Python Syntax, Variables, and Data Types"
      ],
      "metadata": {
        "id": "_5MVRQux4_Xt"
      }
    },
    {
      "cell_type": "markdown",
      "source": [
        "Python Syntax, Variables, and Data Types\n",
        "In this chapter, we will cover Python's syntax, variables, and basic data types, such as integers, floats, booleans, and strings. We will focus on examples and exercises related to the healthcare field.\n",
        "\n",
        "1. Python Syntax\n",
        "Python uses indentation to delimit blocks of code. This makes the code more readable and easier to understand. Let's look at an example related to healthcare:"
      ],
      "metadata": {
        "id": "6u4KJGgEk9db"
      }
    },
    {
      "cell_type": "code",
      "execution_count": null,
      "metadata": {
        "id": "C9y7hxJikylc"
      },
      "outputs": [],
      "source": [
        "def calculate_bmi(height, weight):\n",
        "    if height > 0:\n",
        "        bmi = weight / (height * height)\n",
        "        return bmi\n",
        "    else:\n",
        "        print(\"Invalid height value.\")\n",
        "        return None\n",
        "\n",
        "height_m = 1.75\n",
        "weight_kg = 70\n",
        "\n",
        "bmi = calculate_bmi(height_m, weight_kg)\n",
        "if bmi is not None:\n",
        "    print(f\"The calculated BMI is {bmi:.2f}.\")\n"
      ]
    },
    {
      "cell_type": "markdown",
      "source": [
        "# Python Syntax\n",
        "## Comments\n",
        "In Python, you can add comments to your code to explain its purpose or to provide additional information. Comments begin with a hash symbol (#) and extend to the end of the line."
      ],
      "metadata": {
        "id": "rSZfmTh2o1Sl"
      }
    },
    {
      "cell_type": "code",
      "source": [
        "# This is a single-line comment\n",
        "\n",
        "\"\"\"\n",
        "This is a\n",
        "multi-line\n",
        "comment or docstring\n",
        "\"\"\"\n"
      ],
      "metadata": {
        "id": "v80JORdXo0rU"
      },
      "execution_count": null,
      "outputs": []
    },
    {
      "cell_type": "markdown",
      "source": [
        "## Variables\n",
        "In Python, you can assign values to variables without having to declare their data types explicitly. The data type is inferred from the assigned value."
      ],
      "metadata": {
        "id": "Lu2A-N5GpFGn"
      }
    },
    {
      "cell_type": "code",
      "source": [
        "name = \"John Doe\"  # String variable\n",
        "age = 30           # Integer variable\n",
        "height = 1.75      # Float variable"
      ],
      "metadata": {
        "id": "KTgCbl1hpNj8"
      },
      "execution_count": null,
      "outputs": []
    },
    {
      "cell_type": "markdown",
      "source": [
        "## Statements and Expressions\n",
        "A statement is an instruction that the Python interpreter can execute. An expression is a combination of values, variables, and operators that computes a value."
      ],
      "metadata": {
        "id": "6Jl0h0C_pRTy"
      }
    },
    {
      "cell_type": "code",
      "source": [
        "# Statement\n",
        "age = 30\n",
        "\n",
        "# Expression\n",
        "age_in_months = age * 12"
      ],
      "metadata": {
        "id": "LU7RdSu8pZrx"
      },
      "execution_count": null,
      "outputs": []
    },
    {
      "cell_type": "markdown",
      "source": [
        "## Code Blocks and Indentation\n",
        "Python uses indentation to define code blocks. A code block is a group of statements that are executed together, such as the body of a function or the statements inside a loop. The standard indentation is 4 spaces, although some developers prefer using tabs."
      ],
      "metadata": {
        "id": "gShnaePNpdsj"
      }
    },
    {
      "cell_type": "code",
      "source": [
        "def greet(name):\n",
        "    # This is a code block for the greet function\n",
        "    print(f\"Hello, {name}!\")\n",
        "\n",
        "for i in range(3):\n",
        "    # This is a code block for the loop\n",
        "    greet(\"John\")"
      ],
      "metadata": {
        "id": "cZnruTpapkcn"
      },
      "execution_count": null,
      "outputs": []
    },
    {
      "cell_type": "markdown",
      "source": [
        "## Functions\n",
        "Functions in Python are defined using the def keyword, followed by the function name, a pair of parentheses containing any input parameters, and a colon. The function body is indented."
      ],
      "metadata": {
        "id": "kFbjMnvBptQr"
      }
    },
    {
      "cell_type": "code",
      "source": [
        "def calculate_area(radius):\n",
        "    pi = 3.14159\n",
        "    area = pi * radius * radius\n",
        "    return area\n",
        "\n",
        "circle_area = calculate_area(5)\n",
        "print(f\"The area of the circle is {circle_area:.2f}.\")"
      ],
      "metadata": {
        "id": "W8BB0t39pxoh"
      },
      "execution_count": null,
      "outputs": []
    },
    {
      "cell_type": "markdown",
      "source": [
        "### Exercise 1:\n",
        "Create a function that calculates a patient's BMI (Body Mass Index) and returns the corresponding BMI category according to the World Health Organization (WHO) guidelines:\n",
        "\n",
        "Underweight: BMI < 18.5\n",
        "Normal: 18.5 <= BMI < 24.9\n",
        "Overweight: 25 <= BMI < 29.9\n",
        "Obesity (Class I): 30 <= BMI < 34.9\n",
        "Obesity (Class II): 35 <= BMI < 39.9\n",
        "Obesity (Class III): BMI >= 40\n",
        "Function signature: def bmi_category(height: float, weight: float) -> str:"
      ],
      "metadata": {
        "id": "rjf9yDExsF-h"
      }
    },
    {
      "cell_type": "code",
      "source": [
        "#write your Code here"
      ],
      "metadata": {
        "id": "OY0jJmTvsIjl"
      },
      "execution_count": null,
      "outputs": []
    },
    {
      "cell_type": "markdown",
      "source": [
        "### Exercise 2:\n",
        "Create a function that calculates a patient's target heart rate during exercise based on their age and resting heart rate. The function should return a tuple containing the target heart rates for low-intensity (50% intensity) and high-intensity (85% intensity) exercises.\n",
        "\n",
        "Function signature: def target_heart_rate(age: int, resting_heart_rate: int) -> tuple:\n"
      ],
      "metadata": {
        "id": "CMZpWRwYsLQH"
      }
    },
    {
      "cell_type": "code",
      "source": [
        "#write your Code here"
      ],
      "metadata": {
        "id": "A4RXQnOisTU5"
      },
      "execution_count": null,
      "outputs": []
    },
    {
      "cell_type": "markdown",
      "source": [
        "## Conditionals\n",
        "Conditional statements in Python are written using the keywords if, elif, and else. The condition to be evaluated is followed by a colon, and the code block to be executed is indented."
      ],
      "metadata": {
        "id": "qrqgK_gkpzGo"
      }
    },
    {
      "cell_type": "code",
      "source": [
        "temperature = 37.5\n",
        "\n",
        "if temperature < 36.1:\n",
        "    print(\"Low body temperature\")\n",
        "elif 36.1 <= temperature <= 37.2:\n",
        "    print(\"Normal body temperature\")\n",
        "else:\n",
        "    print(\"High body temperature\")\n"
      ],
      "metadata": {
        "id": "G1eItBtqp8C8"
      },
      "execution_count": null,
      "outputs": []
    },
    {
      "cell_type": "markdown",
      "source": [
        "### Exercise 1:\n",
        "A patient's blood sugar level is an important measure in diagnosing and treating diabetes. Create a Python script that categorizes a patient's fasting blood sugar level using the following guidelines:\n",
        "\n",
        "Normal: blood sugar level < 100 mg/dL Prediabetes: 100 mg/dL <= blood sugar level < 126 mg/dL Diabetes: blood sugar level >= 126 mg/dL"
      ],
      "metadata": {
        "id": "QfuF_dnYvB2f"
      }
    },
    {
      "cell_type": "code",
      "source": [
        "#write your Code here"
      ],
      "metadata": {
        "id": "idnwF6alvGr4"
      },
      "execution_count": null,
      "outputs": []
    },
    {
      "cell_type": "markdown",
      "source": [
        "### Exercise 2:\n",
        "A patient's blood test results include the counts of red blood cells (RBC), white blood cells (WBC), and platelets. These values can help diagnose various medical conditions. Create a Python script that checks if any of these counts are abnormal based on the following guidelines:\n",
        "\n",
        "Abnormal RBC count: RBC < 4.5 million/µL OR RBC > 6.0 million/µL\n",
        "Abnormal WBC count: WBC < 4,000/µL OR WBC > 11,000/µL\n",
        "Abnormal platelet count: platelets < 150,000/µL OR platelets > 450,000/µL"
      ],
      "metadata": {
        "id": "T6V7SHncvITz"
      }
    },
    {
      "cell_type": "code",
      "source": [
        "#write your Code here"
      ],
      "metadata": {
        "id": "Xlw_mdEbvNgC"
      },
      "execution_count": null,
      "outputs": []
    },
    {
      "cell_type": "markdown",
      "source": [
        "## Loops\n",
        "Python has two types of loops: for loops and while loops. for loops are used to iterate over a sequence, such as a list or a range. while loops are used to execute a block of code as long as a specified condition is true."
      ],
      "metadata": {
        "id": "-l_oNpoep6oa"
      }
    },
    {
      "cell_type": "code",
      "source": [
        "# For loop example\n",
        "for i in range(5):\n",
        "    print(i)\n",
        "\n",
        "# While loop example\n",
        "counter = 0\n",
        "while counter < 5:\n",
        "    print(counter)\n",
        "    counter += 1"
      ],
      "metadata": {
        "id": "Nv-gBsxlqI_e"
      },
      "execution_count": null,
      "outputs": []
    },
    {
      "cell_type": "markdown",
      "source": [
        "### Exercise 1:\n",
        "\n",
        "Create a Python script that prints the multiples of 7 between 1 and 100, which are commonly used for counting weeks in various healthcare settings (e.g., tracking pregnancy progress).\n",
        "\n",
        "Solution:"
      ],
      "metadata": {
        "id": "etvXx3C6xhtl"
      }
    },
    {
      "cell_type": "code",
      "source": [
        "#write your Code here"
      ],
      "metadata": {
        "id": "bkkRRdahxYl6"
      },
      "execution_count": null,
      "outputs": []
    },
    {
      "cell_type": "markdown",
      "source": [
        "### Exercise 2\n",
        "\n",
        "A patient needs to drink water every 2 hours to stay hydrated. Create a Python script that calculates the total number of times the patient needs to drink water in a week.\n",
        "\n",
        "Solution:"
      ],
      "metadata": {
        "id": "NlpQbTtqxjDs"
      }
    },
    {
      "cell_type": "code",
      "source": [
        "#write your Code here"
      ],
      "metadata": {
        "id": "I7RqYxEixYuo"
      },
      "execution_count": null,
      "outputs": []
    },
    {
      "cell_type": "markdown",
      "source": [
        "### Exercise 3: \n",
        "\n",
        "A patient has a series of heart rate readings taken at regular intervals. Create a Python script that calculates the average heart rate and identifies any readings that are more than 10 beats per minute (bpm) above or below the average. These readings may indicate irregularities in the patient's heart rate.\n",
        "\n",
        "Solution:"
      ],
      "metadata": {
        "id": "OHYt1zwFxnSp"
      }
    },
    {
      "cell_type": "code",
      "source": [
        "#write your Code here"
      ],
      "metadata": {
        "id": "e281PY1jxZBp"
      },
      "execution_count": null,
      "outputs": []
    },
    {
      "cell_type": "markdown",
      "source": [
        "# Variables\n",
        "## Integers\n",
        "Integers represent whole numbers, both positive and negative. Here's an example calculating the number of doses in a vaccine vial: "
      ],
      "metadata": {
        "id": "1JOqoWGPlGGK"
      }
    },
    {
      "cell_type": "code",
      "source": [
        "vaccine_vial_volume = 10  # milliliters\n",
        "dose_volume = 0.5  # milliliters per dose\n",
        "\n",
        "number_of_doses = vaccine_vial_volume // dose_volume\n",
        "print(f\"There are {number_of_doses} doses in the vaccine vial.\")"
      ],
      "metadata": {
        "id": "N2aooGg6lM8m"
      },
      "execution_count": null,
      "outputs": []
    },
    {
      "cell_type": "markdown",
      "source": [
        "## Floats\n",
        "Floats represent decimal numbers. In this example, we calculate the total dosage of a medication based on the patient's weight:"
      ],
      "metadata": {
        "id": "9BurQFc4lP9U"
      }
    },
    {
      "cell_type": "code",
      "source": [
        "patient_weight_kg = 70.0\n",
        "dosage_per_kg = 0.1  # milligrams per kilogram\n",
        "\n",
        "total_dosage = patient_weight_kg * dosage_per_kg\n",
        "print(f\"The total dosage for the patient is {total_dosage} milligrams.\")\n"
      ],
      "metadata": {
        "id": "mUZ8VWlulSIQ"
      },
      "execution_count": null,
      "outputs": []
    },
    {
      "cell_type": "markdown",
      "source": [
        "## Booleans\n",
        "Booleans represent True or False values. In this example, we check if a patient's temperature is within the normal range:"
      ],
      "metadata": {
        "id": "gU49upjelcWO"
      }
    },
    {
      "cell_type": "code",
      "source": [
        "patient_temperature = 37.2  # Celsius\n",
        "\n",
        "is_normal_temperature = 36.1 <= patient_temperature <= 37.2\n",
        "print(f\"Is the patient's temperature normal? {is_normal_temperature}\")\n"
      ],
      "metadata": {
        "id": "2JGlppoZlXyr"
      },
      "execution_count": null,
      "outputs": []
    },
    {
      "cell_type": "markdown",
      "source": [
        "## Strings\n",
        "Strings represent sequences of characters. In this example, we store and display a patient's personal information:"
      ],
      "metadata": {
        "id": "_jOtnQpVlhef"
      }
    },
    {
      "cell_type": "code",
      "source": [
        "patient_name = \"John Doe\"\n",
        "patient_dob = \"1990-01-15\"\n",
        "patient_id = \"P12345\"\n",
        "\n",
        "print(f\"Patient Name: {patient_name}\\nPatient DOB: {patient_dob}\\nPatient ID: {patient_id}\")"
      ],
      "metadata": {
        "id": "7bGNhylLlkUv"
      },
      "execution_count": null,
      "outputs": []
    },
    {
      "cell_type": "markdown",
      "source": [
        "### Exercise 1:\n",
        "A patient has a target daily step count for maintaining an active lifestyle. Create a Python script that calculates the total number of steps the patient needs to take in a month.\n",
        "\n",
        "Solution:"
      ],
      "metadata": {
        "id": "CunQa7OtzyDE"
      }
    },
    {
      "cell_type": "code",
      "source": [
        "#write your Code here"
      ],
      "metadata": {
        "id": "KEYJQDZezv10"
      },
      "execution_count": null,
      "outputs": []
    },
    {
      "cell_type": "markdown",
      "source": [
        "### Exercise 2:\n",
        "\n",
        "A patient needs to monitor their calorie intake to maintain a healthy diet. They have a target number of calories for each meal: breakfast, lunch, and dinner. Create a Python script that calculates the total number of calories the patient needs to consume in a week.\n",
        "\n",
        "Solution:"
      ],
      "metadata": {
        "id": "FjfTGJwfz14W"
      }
    },
    {
      "cell_type": "code",
      "source": [
        "#write your Code here"
      ],
      "metadata": {
        "id": "W9mXIEAIzv-x"
      },
      "execution_count": null,
      "outputs": []
    },
    {
      "cell_type": "markdown",
      "source": [
        "### Exercise 3:\n",
        "\n",
        "A patient is tracking their sleep duration to improve their sleep habits. They have recorded the number of hours they slept each night for a week. Create a Python script that calculates the average sleep duration for the week and finds the nights where the patient's sleep duration was more than 1 hour above or below the average."
      ],
      "metadata": {
        "id": "XRLmXi_Vz4wK"
      }
    },
    {
      "cell_type": "code",
      "source": [
        "#write your Code here"
      ],
      "metadata": {
        "id": "SA0W83WFzwGp"
      },
      "execution_count": null,
      "outputs": []
    },
    {
      "cell_type": "markdown",
      "source": [
        " # Data Types\n",
        " \n",
        "In addition to the basic data types covered earlier (integers, floats, booleans, and strings), Python also provides more advanced data types such as lists, tuples, sets, and dictionaries. These data types are particularly useful for organizing and manipulating data in the healthcare field.\n"
      ],
      "metadata": {
        "id": "sacKp2GFnCcq"
      }
    },
    {
      "cell_type": "markdown",
      "source": [
        "## Lists\n",
        "Lists are ordered, mutable collections of items. They can hold items of different data types, including other lists. In this example, we store and display patient data in a list:"
      ],
      "metadata": {
        "id": "olvq6ITY1CJ4"
      }
    },
    {
      "cell_type": "code",
      "source": [
        "patient_data = [\"Jane Doe\", \"1985-06-28\", 1.68, 60]\n",
        "\n",
        "print(\"Patient Data:\")\n",
        "print(f\"Name: {patient_data[0]}\")\n",
        "print(f\"Date of Birth: {patient_data[1]}\")\n",
        "print(f\"Height (m): {patient_data[2]}\")\n",
        "print(f\"Weight (kg): {patient_data[3]}\")"
      ],
      "metadata": {
        "id": "7SVhIokjnX7i"
      },
      "execution_count": null,
      "outputs": []
    },
    {
      "cell_type": "markdown",
      "source": [
        "## Tuples\n",
        "Tuples are similar to lists, but they are immutable, meaning their elements cannot be changed after creation. In this example, we use tuples to store and display the names of the days in a week:"
      ],
      "metadata": {
        "id": "iCFdz8LtnbNv"
      }
    },
    {
      "cell_type": "code",
      "source": [
        "days_of_week = (\"Monday\", \"Tuesday\", \"Wednesday\", \"Thursday\", \"Friday\", \"Saturday\", \"Sunday\")\n",
        "\n",
        "print(\"Days of the Week:\")\n",
        "for day in days_of_week:\n",
        "    print(day)"
      ],
      "metadata": {
        "id": "iZUam7wdndrN"
      },
      "execution_count": null,
      "outputs": []
    },
    {
      "cell_type": "markdown",
      "source": [
        "## Sets\n",
        "Sets are unordered collections of unique items. They are useful for tasks such as removing duplicates from a list or performing set operations (e.g., union, intersection, difference). In this example, we use sets to find the unique symptoms reported by multiple patients:"
      ],
      "metadata": {
        "id": "s7ckl0hknjeF"
      }
    },
    {
      "cell_type": "code",
      "source": [
        "patient1_symptoms = {\"fever\", \"cough\", \"fatigue\"}\n",
        "patient2_symptoms = {\"cough\", \"shortness of breath\", \"chest pain\"}\n",
        "\n",
        "unique_symptoms = patient1_symptoms.union(patient2_symptoms)\n",
        "print(\"Unique symptoms across both patients:\", unique_symptoms)\n"
      ],
      "metadata": {
        "id": "flQv_HGNn9In"
      },
      "execution_count": null,
      "outputs": []
    },
    {
      "cell_type": "markdown",
      "source": [
        "## Dictionaries\n",
        "Dictionaries store key-value pairs, where each key must be unique. They are useful for tasks such as indexing data by a specific attribute or storing configuration settings. In this example, we use dictionaries to store and display patient data:"
      ],
      "metadata": {
        "id": "r82dG4f-n_H9"
      }
    },
    {
      "cell_type": "code",
      "source": [
        "patient_data = {\n",
        "    \"name\": \"John Doe\",\n",
        "    \"date_of_birth\": \"1990-01-15\",\n",
        "    \"height\": 1.75,\n",
        "    \"weight\": 70\n",
        "}\n",
        "\n",
        "print(\"Patient Data:\")\n",
        "print(f\"Name: {patient_data['name']}\")\n",
        "print(f\"Date of Birth: {patient_data['date_of_birth']}\")\n",
        "print(f\"Height (m): {patient_data['height']}\")\n",
        "print(f\"Weight (kg): {patient_data['weight']}\")"
      ],
      "metadata": {
        "id": "XInV12mAoCrX"
      },
      "execution_count": null,
      "outputs": []
    },
    {
      "cell_type": "markdown",
      "source": [
        "### Exercise 1:\n",
        "\n",
        "A patient records their weight in kilograms at the end of each week. Create a Python script that calculates the average weight over a given period using a list of recorded weights.\n",
        "\n",
        "Solution:"
      ],
      "metadata": {
        "id": "x5zUhbnh4L1v"
      }
    },
    {
      "cell_type": "code",
      "source": [
        "#write your Code here"
      ],
      "metadata": {
        "id": "d_Zj9taa4ODL"
      },
      "execution_count": null,
      "outputs": []
    },
    {
      "cell_type": "markdown",
      "source": [
        "### Exercise 2:\n",
        "\n",
        "A patient tracks their daily medication intake using tuples, where the first element is the name of the medication and the second element is the number of times the medication is taken daily. Create a Python script that calculates the total number of medication doses taken in a week.\n",
        "\n",
        "Solution:"
      ],
      "metadata": {
        "id": "EZuKRdeS4Pde"
      }
    },
    {
      "cell_type": "code",
      "source": [
        "#write your Code here"
      ],
      "metadata": {
        "id": "XI25MjD84RXU"
      },
      "execution_count": null,
      "outputs": []
    },
    {
      "cell_type": "markdown",
      "source": [
        "Exercise 3: Hard\n",
        "\n",
        "A patient wants to track their daily symptoms in a diary. Create a Python script that organizes the recorded symptoms using a dictionary, where the keys are dates and the values are sets of symptoms. Find the dates with the most common symptom.\n",
        "\n",
        "Solution:"
      ],
      "metadata": {
        "id": "umLh_13b4TaG"
      }
    },
    {
      "cell_type": "code",
      "source": [
        "#write your Code here"
      ],
      "metadata": {
        "id": "XRKmAvi44UEh"
      },
      "execution_count": null,
      "outputs": []
    }
  ]
}