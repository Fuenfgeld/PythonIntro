{
  "nbformat": 4,
  "nbformat_minor": 0,
  "metadata": {
    "colab": {
      "name": "PythonIntro1.ipynb",
      "provenance": [],
      "authorship_tag": "ABX9TyMzKtONnhsnHnGLNBnZA2Bj",
      "include_colab_link": true
    },
    "kernelspec": {
      "name": "python3",
      "display_name": "Python 3"
    },
    "language_info": {
      "name": "python"
    }
  },
  "cells": [
    {
      "cell_type": "markdown",
      "metadata": {
        "id": "view-in-github",
        "colab_type": "text"
      },
      "source": [
        "<a href=\"https://colab.research.google.com/github/Fuenfgeld/PythonIntro/blob/main/PythonIntro1.ipynb\" target=\"_parent\"><img src=\"https://colab.research.google.com/assets/colab-badge.svg\" alt=\"Open In Colab\"/></a>"
      ]
    },
    {
      "cell_type": "markdown",
      "metadata": {
        "id": "Cdv0d6DfZjyq"
      },
      "source": [
        "---\n",
        "\n",
        "### To initialize the code click Runtime and then Run all\n",
        "<img src=\"https://github.com/Fuenfgeld/PythonIntro/raw/main/img/RunAll.png\" width=\"520\" height=\"132\" alt=\"Run All\"/>\n",
        "\n",
        "\n",
        "---\n",
        "\n",
        "\n",
        "### Every Cell can be run individualy by clicking the Play Button\n",
        "<img src=\"https://github.com/Fuenfgeld/PythonIntro/raw/main/img/RunCell.png\" width=\"295\" height=\"88\" />\n",
        "\n",
        "\n",
        "---\n"
      ]
    },
    {
      "cell_type": "code",
      "metadata": {
        "colab": {
          "base_uri": "https://localhost:8080/"
        },
        "id": "6PmJRcr9rGl0",
        "outputId": "e4eb1f76-0d4b-4e25-9148-006bf1a15826"
      },
      "source": [
        "!git clone https://github.com/Fuenfgeld/PythonIntro"
      ],
      "execution_count": 1,
      "outputs": [
        {
          "output_type": "stream",
          "text": [
            "Cloning into 'PythonIntro'...\n",
            "remote: Enumerating objects: 10, done.\u001b[K\n",
            "remote: Counting objects: 100% (10/10), done.\u001b[K\n",
            "remote: Compressing objects: 100% (8/8), done.\u001b[K\n",
            "remote: Total 10 (delta 1), reused 6 (delta 1), pack-reused 0\u001b[K\n",
            "Unpacking objects: 100% (10/10), done.\n"
          ],
          "name": "stdout"
        }
      ]
    }
  ]
}