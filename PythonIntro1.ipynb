{
  "nbformat": 4,
  "nbformat_minor": 0,
  "metadata": {
    "colab": {
      "name": "PythonIntro1.ipynb",
      "provenance": [],
      "collapsed_sections": [],
      "authorship_tag": "ABX9TyPrMbA/7FLHCyckwaoXi6O0",
      "include_colab_link": true
    },
    "kernelspec": {
      "name": "python3",
      "display_name": "Python 3"
    },
    "language_info": {
      "name": "python"
    }
  },
  "cells": [
    {
      "cell_type": "markdown",
      "metadata": {
        "id": "view-in-github",
        "colab_type": "text"
      },
      "source": [
        "<a href=\"https://colab.research.google.com/github/Fuenfgeld/PythonIntro/blob/main/PythonIntro1.ipynb\" target=\"_parent\"><img src=\"https://colab.research.google.com/assets/colab-badge.svg\" alt=\"Open In Colab\"/></a>"
      ]
    },
    {
      "cell_type": "markdown",
      "metadata": {
        "id": "Cdv0d6DfZjyq"
      },
      "source": [
        "\n",
        "\n",
        "### To initialize the code click Runtime and then Run all\n",
        "<img src=\"https://github.com/Fuenfgeld/PythonIntro/raw/main/img/RunAll.png\" width=\"520\" height=\"132\" alt=\"Run All\"/>\n",
        "\n",
        "\n",
        "\n"
      ]
    },
    {
      "cell_type": "code",
      "metadata": {
        "id": "6PmJRcr9rGl0"
      },
      "source": [
        "!git clone https://github.com/Fuenfgeld/PythonIntro"
      ],
      "execution_count": null,
      "outputs": []
    },
    {
      "cell_type": "markdown",
      "metadata": {
        "id": "9y5Cb2xzYVOj"
      },
      "source": [
        "## Variablen"
      ]
    },
    {
      "cell_type": "code",
      "metadata": {
        "id": "dy5WwTd9XtZM"
      },
      "source": [
        "a = 1"
      ],
      "execution_count": null,
      "outputs": []
    },
    {
      "cell_type": "code",
      "metadata": {
        "id": "f1CS8HblXtPK"
      },
      "source": [
        "a"
      ],
      "execution_count": null,
      "outputs": []
    },
    {
      "cell_type": "code",
      "metadata": {
        "id": "d1a68EvzXtE1"
      },
      "source": [
        "a = 2"
      ],
      "execution_count": null,
      "outputs": []
    },
    {
      "cell_type": "code",
      "metadata": {
        "id": "zG1J9kvrXs1K"
      },
      "source": [
        "a + 3\n"
      ],
      "execution_count": null,
      "outputs": []
    },
    {
      "cell_type": "code",
      "metadata": {
        "id": "OGvX4aoRZCZU"
      },
      "source": [
        "c = a + 3"
      ],
      "execution_count": null,
      "outputs": []
    },
    {
      "cell_type": "code",
      "metadata": {
        "id": "b3SRb5NgZHFm"
      },
      "source": [
        "c"
      ],
      "execution_count": null,
      "outputs": []
    },
    {
      "cell_type": "markdown",
      "metadata": {
        "id": "Zl9BhP4pY2DE"
      },
      "source": [
        "### Text"
      ]
    },
    {
      "cell_type": "code",
      "metadata": {
        "id": "-PP18bZAYjXw"
      },
      "source": [
        "b = 'hallo welt'"
      ],
      "execution_count": null,
      "outputs": []
    },
    {
      "cell_type": "code",
      "metadata": {
        "id": "DQHbfcALYrB1"
      },
      "source": [
        "b + ' 3'"
      ],
      "execution_count": null,
      "outputs": []
    },
    {
      "cell_type": "markdown",
      "metadata": {
        "id": "_HUow67FZN2D"
      },
      "source": [
        "### Boolean"
      ]
    },
    {
      "cell_type": "code",
      "metadata": {
        "id": "4Bi9n_1ZYt2s"
      },
      "source": [
        "c = True"
      ],
      "execution_count": null,
      "outputs": []
    },
    {
      "cell_type": "code",
      "metadata": {
        "id": "vJauRebdYwel"
      },
      "source": [
        "c"
      ],
      "execution_count": null,
      "outputs": []
    },
    {
      "cell_type": "markdown",
      "metadata": {
        "id": "FHyPNGR9Zn-Z"
      },
      "source": [
        "# Sammlungen"
      ]
    },
    {
      "cell_type": "markdown",
      "metadata": {
        "id": "IGl145lvZ1KD"
      },
      "source": [
        "#List"
      ]
    },
    {
      "cell_type": "code",
      "metadata": {
        "id": "ebMqtJqgZ0uE"
      },
      "source": [
        "b = [1,2,3]"
      ],
      "execution_count": null,
      "outputs": []
    },
    {
      "cell_type": "code",
      "metadata": {
        "id": "YjBerZeQZsUh"
      },
      "source": [
        "b.append(4)"
      ],
      "execution_count": null,
      "outputs": []
    },
    {
      "cell_type": "markdown",
      "metadata": {
        "id": "ABekO7CmaF29"
      },
      "source": [
        "### Dictionary"
      ]
    },
    {
      "cell_type": "code",
      "metadata": {
        "id": "Zqw_t4etaJSW"
      },
      "source": [
        "patientenZimmer = {}"
      ],
      "execution_count": null,
      "outputs": []
    },
    {
      "cell_type": "code",
      "metadata": {
        "id": "UmSfH_RTalZI"
      },
      "source": [
        "patientenZimmer['Peter']= 13"
      ],
      "execution_count": null,
      "outputs": []
    },
    {
      "cell_type": "code",
      "metadata": {
        "id": "BpyeFua9ar6b"
      },
      "source": [
        "patientenZimmer['Frauke']= 11"
      ],
      "execution_count": null,
      "outputs": []
    },
    {
      "cell_type": "code",
      "metadata": {
        "id": "sIYAF5b9awpe"
      },
      "source": [
        "patientenZimmer['Peter']"
      ],
      "execution_count": null,
      "outputs": []
    },
    {
      "cell_type": "markdown",
      "metadata": {
        "id": "3XK0vWzra9Jo"
      },
      "source": [
        "#Vergleiche"
      ]
    },
    {
      "cell_type": "code",
      "metadata": {
        "id": "2ooiPcpddmue"
      },
      "source": [
        "hb_wert = 19\n",
        "\n",
        "grenzwertFrauNiedrig = 11\n",
        "grenzwertFrauHoch = 16"
      ],
      "execution_count": null,
      "outputs": []
    },
    {
      "cell_type": "code",
      "metadata": {
        "id": "ztc2NmE_dqLD"
      },
      "source": [
        "hb_wert < grenzwertFrauHoch"
      ],
      "execution_count": null,
      "outputs": []
    },
    {
      "cell_type": "code",
      "metadata": {
        "id": "nvQsbXUXd2qj"
      },
      "source": [
        "not hb_wert < grenzwertFrauHoch"
      ],
      "execution_count": null,
      "outputs": []
    },
    {
      "cell_type": "code",
      "metadata": {
        "id": "P0OagwRpbDG5"
      },
      "source": [
        "if hb_wert < grenzwertFrauNiedrig:\n",
        "  print('HB Wert ist niedrig')\n",
        "elif hb_wert > grenzwertFrauHoch:\n",
        "  print('HB Wert ist hoch')\n",
        "else:\n",
        "  print('HB Wert ist normal')  \n"
      ],
      "execution_count": null,
      "outputs": []
    },
    {
      "cell_type": "markdown",
      "metadata": {
        "id": "ajK2MxcnYp1U"
      },
      "source": [
        "## Schleifen"
      ]
    },
    {
      "cell_type": "code",
      "metadata": {
        "id": "O27I3Uf0eoXt"
      },
      "source": [
        "liste = [1,2,3,4,5,6]\n",
        "summe = 0\n",
        "for zahl in liste:\n",
        "  summe = summe + zahl\n",
        "  print(zahl, summe)"
      ],
      "execution_count": null,
      "outputs": []
    },
    {
      "cell_type": "markdown",
      "metadata": {
        "id": "Vwad2OPfgeUv"
      },
      "source": [
        "## Funktionen"
      ]
    },
    {
      "cell_type": "code",
      "metadata": {
        "id": "ObNlhtn6ftYY"
      },
      "source": [
        ""
      ],
      "execution_count": null,
      "outputs": []
    },
    {
      "cell_type": "code",
      "metadata": {
        "id": "rP99zHTAdV8g"
      },
      "source": [
        "csvfile = open('StudieShort.txt', 'r') \n",
        "print(csvfile)"
      ],
      "execution_count": null,
      "outputs": []
    },
    {
      "cell_type": "code",
      "metadata": {
        "id": "hEgTkd0DjphL"
      },
      "source": [
        "csvfile.__next__()"
      ],
      "execution_count": null,
      "outputs": []
    },
    {
      "cell_type": "code",
      "metadata": {
        "id": "VE6l6GTji4F8"
      },
      "source": [
        "for i in csvfile:\n",
        "  print(i)"
      ],
      "execution_count": null,
      "outputs": []
    },
    {
      "cell_type": "code",
      "metadata": {
        "id": "9eSxalu5eFsv"
      },
      "source": [
        "import csv\n",
        "csvfile = open('Studie.csv', 'r') \n",
        "reader = csv.reader(csvfile, delimiter=';')\n",
        "\n",
        "for line in reader:\n",
        "        print(line)"
      ],
      "execution_count": null,
      "outputs": []
    },
    {
      "cell_type": "code",
      "metadata": {
        "id": "kjXL6WfPeYpf"
      },
      "source": [
        ""
      ],
      "execution_count": null,
      "outputs": []
    }
  ]
}