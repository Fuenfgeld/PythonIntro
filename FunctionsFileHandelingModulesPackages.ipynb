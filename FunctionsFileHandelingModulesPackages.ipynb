{
  "nbformat": 4,
  "nbformat_minor": 0,
  "metadata": {
    "colab": {
      "private_outputs": true,
      "provenance": [],
      "toc_visible": true,
      "authorship_tag": "ABX9TyNDTHVdH4S5VGoW2T0d26Vv",
      "include_colab_link": true
    },
    "kernelspec": {
      "name": "python3",
      "display_name": "Python 3"
    },
    "language_info": {
      "name": "python"
    }
  },
  "cells": [
    {
      "cell_type": "markdown",
      "metadata": {
        "id": "view-in-github",
        "colab_type": "text"
      },
      "source": [
        "<a href=\"https://colab.research.google.com/github/Fuenfgeld/PythonIntro/blob/main/FunctionsFileHandelingModulesPackages.ipynb\" target=\"_parent\"><img src=\"https://colab.research.google.com/assets/colab-badge.svg\" alt=\"Open In Colab\"/></a>"
      ]
    },
    {
      "cell_type": "markdown",
      "source": [
        "Functions, File I/O, Modules, and Packages\n",
        "\n",
        "In this chapter, we will cover functions, file I/O (input/output), and how to use modules and packages in Python. We'll provide healthcare-related examples and exercises for each concept.\n",
        "\n",
        "## Functions\n",
        "In this chapter, we'll explore functions in Python. We'll cover the following topics:\n",
        "\n",
        "* Defining functions\n",
        "* Default values for parameters\n",
        "* Variable-length arguments (*args and **kwargs)\n",
        "* Important built-in functions\n",
        "\n",
        "### Defining Functions\n",
        "Functions are reusable pieces of code that can be called with a specific set of input values (arguments) and return an output value. Functions allow us to break down complex tasks into smaller, modular pieces, making our code more organized and easier to maintain.\n",
        "\n"
      ],
      "metadata": {
        "id": "GC5yz3ND17iS"
      }
    },
    {
      "cell_type": "code",
      "execution_count": null,
      "metadata": {
        "id": "7q49eaMC15Lf"
      },
      "outputs": [],
      "source": [
        "def calculate_bmi(height, weight):\n",
        "    bmi = weight / (height / 100) ** 2\n",
        "    return bmi\n",
        "\n",
        "height = 175\n",
        "weight = 70\n",
        "bmi_result = calculate_bmi(height, weight)\n",
        "print(f\"Your BMI is: {bmi_result:.1f}\")"
      ]
    },
    {
      "cell_type": "markdown",
      "source": [
        "### Function Parameters\n",
        "Parameters are variables that allow a function to receive input values from the caller. They are declared in the function definition within the parentheses."
      ],
      "metadata": {
        "id": "oFdXYi-B5RUl"
      }
    },
    {
      "cell_type": "code",
      "source": [
        "def greet_patient(name, age):\n",
        "    print(f\"Hello, {name}! You are {age} years old.\")\n",
        "\n",
        "greet_patient(\"John Doe\", 30)"
      ],
      "metadata": {
        "id": "2Q8hUMlW5Vv0"
      },
      "execution_count": null,
      "outputs": []
    },
    {
      "cell_type": "markdown",
      "source": [
        "### Default Values for Parameters\n",
        "Default values for parameters can be specified in the function definition. If a value for a parameter with a default value is not provided by the caller, the default value will be used."
      ],
      "metadata": {
        "id": "wvF6mF_15W68"
      }
    },
    {
      "cell_type": "code",
      "source": [
        "def analyze_sleep_duration(duration, recommended_duration=8):\n",
        "    if duration < recommended_duration:\n",
        "        print(\"You should sleep more!\")\n",
        "    elif duration > recommended_duration:\n",
        "        print(\"You might be sleeping too much!\")\n",
        "    else:\n",
        "        print(\"You have a healthy sleep duration!\")\n",
        "\n",
        "analyze_sleep_duration(7)\n",
        "analyze_sleep_duration(7, 5)"
      ],
      "metadata": {
        "id": "4x_bZ0eL5Zir"
      },
      "execution_count": null,
      "outputs": []
    },
    {
      "cell_type": "markdown",
      "source": [
        "### Variable-length arguments (*args and **kwargs)\n",
        "Variable-length arguments allow a function to accept an arbitrary number of input values. They are specified using the * and ** syntax.\n",
        "\n",
        "*args: Allows a function to accept an arbitrary number of non-keyword (positional) arguments."
      ],
      "metadata": {
        "id": "H-oKBPiZ5laJ"
      }
    },
    {
      "cell_type": "code",
      "source": [
        "def calculate_sum(*args):\n",
        "    total = 0\n",
        "    for number in args:\n",
        "        total += number\n",
        "    return total\n",
        "\n",
        "result = calculate_sum(1, 2, 3, 4, 5)\n",
        "print(f\"The sum of the numbers is {result}.\")\n"
      ],
      "metadata": {
        "id": "8XKG2w645tvs"
      },
      "execution_count": null,
      "outputs": []
    },
    {
      "cell_type": "markdown",
      "source": [
        "**kwargs: Allows a function to accept an arbitrary number of keyword arguments."
      ],
      "metadata": {
        "id": "8JDw_WU26Hdq"
      }
    },
    {
      "cell_type": "code",
      "source": [
        "def print_patient_info(**kwargs):\n",
        "    for key, value in kwargs.items():\n",
        "        print(f\"{key.capitalize()}: {value}\")\n",
        "\n",
        "print_patient_info(name=\"John Doe\", age=30, condition=\"hypertension\")\n"
      ],
      "metadata": {
        "id": "gaspI7Gj6QOv"
      },
      "execution_count": null,
      "outputs": []
    },
    {
      "cell_type": "markdown",
      "source": [
        "In the first example, the calculate_sum function accepts any number of positional arguments, which are then packed into a tuple called args. The function iterates through the tuple and calculates the sum of the numbers.\n",
        "\n",
        "In the second example, the print_patient_info function accepts any number of keyword arguments, which are then packed into a dictionary called kwargs. The function iterates through the dictionary and prints the key-value pairs."
      ],
      "metadata": {
        "id": "2l-w12MB6Seq"
      }
    },
    {
      "cell_type": "markdown",
      "source": [
        "### Built-in functions\n",
        "Python has many built-in functions that can be used to perform common operations. Some important built-in functions are:"
      ],
      "metadata": {
        "id": "3D-PPotk6Yzz"
      }
    },
    {
      "cell_type": "markdown",
      "source": [
        "len(): Returns the length of a sequence (e.g., string, list, tuple) or a collection (e.g., dictionary, set)."
      ],
      "metadata": {
        "id": "_YfNxC9A6iv4"
      }
    },
    {
      "cell_type": "code",
      "source": [
        "name = \"John Doe\"\n",
        "name_length = len(name)\n",
        "print(f\"The length of the name is {name_length}.\")"
      ],
      "metadata": {
        "id": "TLy2wLLj6S4H"
      },
      "execution_count": null,
      "outputs": []
    },
    {
      "cell_type": "markdown",
      "source": [
        "print(): Outputs the specified message to the screen or other standard output device."
      ],
      "metadata": {
        "id": "_UydRfBK6mit"
      }
    },
    {
      "cell_type": "code",
      "source": [
        "name = \"John Doe\"\n",
        "print(f\"Hello, {name}!\")"
      ],
      "metadata": {
        "id": "lILU3mjC6lfh"
      },
      "execution_count": null,
      "outputs": []
    },
    {
      "cell_type": "markdown",
      "source": [
        "type(): Returns the data type of the specified object."
      ],
      "metadata": {
        "id": "w5pq65xh6yfs"
      }
    },
    {
      "cell_type": "code",
      "source": [
        "number = 42\n",
        "number_type = type(number)\n",
        "print(f\"The data type of number is {number_type}.\")"
      ],
      "metadata": {
        "id": "O3Jn21op6v2O"
      },
      "execution_count": null,
      "outputs": []
    },
    {
      "cell_type": "markdown",
      "source": [
        "input(): Reads a line from input, converts it to a string, and returns the result."
      ],
      "metadata": {
        "id": "pVtASFt_61oE"
      }
    },
    {
      "cell_type": "code",
      "source": [
        "name = input(\"Please enter your name: \")\n",
        "print(f\"Hello, {name}!\")"
      ],
      "metadata": {
        "id": "qipXDG_c639C"
      },
      "execution_count": null,
      "outputs": []
    },
    {
      "cell_type": "markdown",
      "source": [
        "Converts the specified value into an data typ.\n",
        "\n",
        "- **`int()`**: Converts a number or a string containing a number to an integer.\n",
        "- **`float()`**: Converts a number or a string containing a number to a floating-point number.\n",
        "- **`str()`**: Converts the specified value into a string.\n",
        "- **`list()`**: Converts the specified iterable (e.g., tuple, set, or string) into a list.\n",
        "- **`tuple()`**: Converts the specified iterable (e.g., list, set, or string) into a tuple.\n",
        "- **`set()`**: Converts the specified iterable (e.g., list, tuple, or string) into a set.\n",
        "- **`dict()`**: Creates a new dictionary from the specified iterable of key-value pairs or returns an empty dictionary if no iterable is given.\n",
        "- **`bool()`**: Converts the specified value to a boolean value (True or False).\n",
        "- **`chr()`**: Converts an integer representing a Unicode character to the corresponding character.\n",
        "- **`ord()`**: Converts a single character to its corresponding Unicode integer value.\n",
        "- **`hex()`**: Converts an integer to its corresponding hexadecimal string.\n",
        "- **`oct()`**: Converts an integer to its corresponding octal string.\n",
        "- **`bin()`**: Converts an integer to its corresponding binary string."
      ],
      "metadata": {
        "id": "dxe3otln7FSQ"
      }
    },
    {
      "cell_type": "code",
      "source": [
        "number_string = \"3.14\"\n",
        "print(f\"The variable is of {type(number_string)}.\")\n",
        "number_float = float(number_string)\n",
        "print(f\"The variable is of {type(number_float)}.\")\n"
      ],
      "metadata": {
        "id": "MIjmQ0cF67sy"
      },
      "execution_count": null,
      "outputs": []
    },
    {
      "cell_type": "markdown",
      "source": [
        "### Exercises"
      ],
      "metadata": {
        "id": "R3KzXRvD8Ojg"
      }
    },
    {
      "cell_type": "markdown",
      "source": [
        "#### Exercise 1: Easy\n",
        "Create a function called count_symptoms that takes a list of symptoms and returns a dictionary containing the count of each symptom."
      ],
      "metadata": {
        "id": "qmRjOtmf9jG4"
      }
    },
    {
      "cell_type": "code",
      "source": [
        "symptom_list = [\"fever\", \"headache\", \"nausea\", \"headache\", \"fever\", \"nausea\", \"cough\"]\n",
        "# write code Here"
      ],
      "metadata": {
        "id": "eh4y1qYn8S_l"
      },
      "execution_count": null,
      "outputs": []
    },
    {
      "cell_type": "markdown",
      "source": [],
      "metadata": {
        "id": "G6Wcf9CB9iLE"
      }
    },
    {
      "cell_type": "markdown",
      "source": [
        "\n",
        "#### Exercise 2: Medium\n",
        "\n",
        "Create a function called `group_patients_by_age` that takes a dictionary where the keys are patient names and the values are ages. The function should return a new dictionary where the keys are age ranges (as tuples) and the values are lists of patients in those age ranges.\n",
        "\n"
      ],
      "metadata": {
        "id": "GOFwZtLG8yg2"
      }
    },
    {
      "cell_type": "code",
      "source": [
        "patients = {\n",
        "    \"Alice\": 25,\n",
        "    \"Bob\": 35,\n",
        "    \"Carol\": 60,\n",
        "    \"David\": 28,\n",
        "    \"Eve\": 50,\n",
        "    \"Frank\": 45\n",
        "}\n",
        "# write code Here"
      ],
      "metadata": {
        "id": "tm53uCS-85VW"
      },
      "execution_count": null,
      "outputs": []
    },
    {
      "cell_type": "markdown",
      "source": [
        "#### Exercise 3: Hard\n",
        "Create a function called analyze_heart_rates that takes a list of heart rates and calculates the minimum, maximum, and average heart rate. The function should return a dictionary with these values."
      ],
      "metadata": {
        "id": "xaTQ0b2x9K2V"
      }
    },
    {
      "cell_type": "code",
      "source": [
        "heart_rates = [80, 90, 85, 100, 95, 88, 92]\n",
        "# write code Here"
      ],
      "metadata": {
        "id": "qEWL9sG79OVH"
      },
      "execution_count": null,
      "outputs": []
    }
  ]
}