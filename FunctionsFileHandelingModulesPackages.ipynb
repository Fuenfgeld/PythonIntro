{
  "nbformat": 4,
  "nbformat_minor": 0,
  "metadata": {
    "colab": {
      "private_outputs": true,
      "provenance": [],
      "authorship_tag": "ABX9TyMRgROyClN3ylxbe3G7eaXs",
      "include_colab_link": true
    },
    "kernelspec": {
      "name": "python3",
      "display_name": "Python 3"
    },
    "language_info": {
      "name": "python"
    }
  },
  "cells": [
    {
      "cell_type": "markdown",
      "metadata": {
        "id": "view-in-github",
        "colab_type": "text"
      },
      "source": [
        "<a href=\"https://colab.research.google.com/github/Fuenfgeld/PythonIntro/blob/main/FunctionsFileHandelingModulesPackages.ipynb\" target=\"_parent\"><img src=\"https://colab.research.google.com/assets/colab-badge.svg\" alt=\"Open In Colab\"/></a>"
      ]
    },
    {
      "cell_type": "code",
      "source": [
        "!git clone https://github.com/Fuenfgeld/PythonIntro.git"
      ],
      "metadata": {
        "id": "fbs5l8u9nOOo"
      },
      "execution_count": null,
      "outputs": []
    },
    {
      "cell_type": "markdown",
      "source": [
        "Functions, File I/O, Modules, and Packages\n",
        "\n",
        "In this chapter, we will cover functions, file I/O (input/output), and how to use modules and packages in Python. We'll provide healthcare-related examples and exercises for each concept.\n",
        "\n",
        "## Functions\n",
        "In this chapter, we'll explore functions in Python. We'll cover the following topics:\n",
        "\n",
        "* Defining functions\n",
        "* Default values for parameters\n",
        "* Variable-length arguments (*args and **kwargs)\n",
        "* Important built-in functions\n",
        "\n",
        "### Defining Functions\n",
        "Functions are reusable pieces of code that can be called with a specific set of input values (arguments) and return an output value. Functions allow us to break down complex tasks into smaller, modular pieces, making our code more organized and easier to maintain.\n",
        "\n"
      ],
      "metadata": {
        "id": "GC5yz3ND17iS"
      }
    },
    {
      "cell_type": "code",
      "execution_count": null,
      "metadata": {
        "id": "7q49eaMC15Lf"
      },
      "outputs": [],
      "source": [
        "def calculate_bmi(height, weight):\n",
        "    bmi = weight / (height / 100) ** 2\n",
        "    return bmi\n",
        "\n",
        "height = 175\n",
        "weight = 70\n",
        "bmi_result = calculate_bmi(height, weight)\n",
        "print(f\"Your BMI is: {bmi_result:.1f}\")"
      ]
    },
    {
      "cell_type": "markdown",
      "source": [
        "### Function Parameters\n",
        "Parameters are variables that allow a function to receive input values from the caller. They are declared in the function definition within the parentheses."
      ],
      "metadata": {
        "id": "oFdXYi-B5RUl"
      }
    },
    {
      "cell_type": "code",
      "source": [
        "def greet_patient(name, age):\n",
        "    print(f\"Hello, {name}! You are {age} years old.\")\n",
        "\n",
        "greet_patient(\"John Doe\", 30)"
      ],
      "metadata": {
        "id": "2Q8hUMlW5Vv0"
      },
      "execution_count": null,
      "outputs": []
    },
    {
      "cell_type": "markdown",
      "source": [
        "### Default Values for Parameters\n",
        "Default values for parameters can be specified in the function definition. If a value for a parameter with a default value is not provided by the caller, the default value will be used."
      ],
      "metadata": {
        "id": "wvF6mF_15W68"
      }
    },
    {
      "cell_type": "code",
      "source": [
        "def analyze_sleep_duration(duration, recommended_duration=8):\n",
        "    if duration < recommended_duration:\n",
        "        print(\"You should sleep more!\")\n",
        "    elif duration > recommended_duration:\n",
        "        print(\"You might be sleeping too much!\")\n",
        "    else:\n",
        "        print(\"You have a healthy sleep duration!\")\n",
        "\n",
        "analyze_sleep_duration(7)\n",
        "analyze_sleep_duration(7, 5)"
      ],
      "metadata": {
        "id": "4x_bZ0eL5Zir"
      },
      "execution_count": null,
      "outputs": []
    },
    {
      "cell_type": "markdown",
      "source": [
        "### Variable-length arguments (*args and **kwargs)\n",
        "Variable-length arguments allow a function to accept an arbitrary number of input values. They are specified using the * and ** syntax.\n",
        "\n",
        "*args: Allows a function to accept an arbitrary number of non-keyword (positional) arguments."
      ],
      "metadata": {
        "id": "H-oKBPiZ5laJ"
      }
    },
    {
      "cell_type": "code",
      "source": [
        "def calculate_sum(*args):\n",
        "    total = 0\n",
        "    for number in args:\n",
        "        total += number\n",
        "    return total\n",
        "\n",
        "result = calculate_sum(1, 2, 3, 4, 5)\n",
        "print(f\"The sum of the numbers is {result}.\")\n"
      ],
      "metadata": {
        "id": "8XKG2w645tvs"
      },
      "execution_count": null,
      "outputs": []
    },
    {
      "cell_type": "markdown",
      "source": [
        "**kwargs: Allows a function to accept an arbitrary number of keyword arguments."
      ],
      "metadata": {
        "id": "8JDw_WU26Hdq"
      }
    },
    {
      "cell_type": "code",
      "source": [
        "def print_patient_info(**kwargs):\n",
        "    for key, value in kwargs.items():\n",
        "        print(f\"{key.capitalize()}: {value}\")\n",
        "\n",
        "print_patient_info(name=\"John Doe\", age=30, condition=\"hypertension\")\n"
      ],
      "metadata": {
        "id": "gaspI7Gj6QOv"
      },
      "execution_count": null,
      "outputs": []
    },
    {
      "cell_type": "markdown",
      "source": [
        "In the first example, the calculate_sum function accepts any number of positional arguments, which are then packed into a tuple called args. The function iterates through the tuple and calculates the sum of the numbers.\n",
        "\n",
        "In the second example, the print_patient_info function accepts any number of keyword arguments, which are then packed into a dictionary called kwargs. The function iterates through the dictionary and prints the key-value pairs."
      ],
      "metadata": {
        "id": "2l-w12MB6Seq"
      }
    },
    {
      "cell_type": "markdown",
      "source": [
        "### Built-in functions\n",
        "Python has many built-in functions that can be used to perform common operations. Some important built-in functions are:"
      ],
      "metadata": {
        "id": "3D-PPotk6Yzz"
      }
    },
    {
      "cell_type": "markdown",
      "source": [
        "len(): Returns the length of a sequence (e.g., string, list, tuple) or a collection (e.g., dictionary, set)."
      ],
      "metadata": {
        "id": "_YfNxC9A6iv4"
      }
    },
    {
      "cell_type": "code",
      "source": [
        "name = \"John Doe\"\n",
        "name_length = len(name)\n",
        "print(f\"The length of the name is {name_length}.\")"
      ],
      "metadata": {
        "id": "TLy2wLLj6S4H"
      },
      "execution_count": null,
      "outputs": []
    },
    {
      "cell_type": "markdown",
      "source": [
        "print(): Outputs the specified message to the screen or other standard output device."
      ],
      "metadata": {
        "id": "_UydRfBK6mit"
      }
    },
    {
      "cell_type": "code",
      "source": [
        "name = \"John Doe\"\n",
        "print(f\"Hello, {name}!\")"
      ],
      "metadata": {
        "id": "lILU3mjC6lfh"
      },
      "execution_count": null,
      "outputs": []
    },
    {
      "cell_type": "markdown",
      "source": [
        "type(): Returns the data type of the specified object."
      ],
      "metadata": {
        "id": "w5pq65xh6yfs"
      }
    },
    {
      "cell_type": "code",
      "source": [
        "number = 42\n",
        "number_type = type(number)\n",
        "print(f\"The data type of number is {number_type}.\")"
      ],
      "metadata": {
        "id": "O3Jn21op6v2O"
      },
      "execution_count": null,
      "outputs": []
    },
    {
      "cell_type": "markdown",
      "source": [
        "input(): Reads a line from input, converts it to a string, and returns the result."
      ],
      "metadata": {
        "id": "pVtASFt_61oE"
      }
    },
    {
      "cell_type": "code",
      "source": [
        "name = input(\"Please enter your name: \")\n",
        "print(f\"Hello, {name}!\")"
      ],
      "metadata": {
        "id": "qipXDG_c639C"
      },
      "execution_count": null,
      "outputs": []
    },
    {
      "cell_type": "markdown",
      "source": [
        "Converts the specified value into an data typ.\n",
        "\n",
        "- **`int()`**: Converts a number or a string containing a number to an integer.\n",
        "- **`float()`**: Converts a number or a string containing a number to a floating-point number.\n",
        "- **`str()`**: Converts the specified value into a string.\n",
        "- **`list()`**: Converts the specified iterable (e.g., tuple, set, or string) into a list.\n",
        "- **`tuple()`**: Converts the specified iterable (e.g., list, set, or string) into a tuple.\n",
        "- **`set()`**: Converts the specified iterable (e.g., list, tuple, or string) into a set.\n",
        "- **`dict()`**: Creates a new dictionary from the specified iterable of key-value pairs or returns an empty dictionary if no iterable is given.\n",
        "- **`bool()`**: Converts the specified value to a boolean value (True or False).\n",
        "- **`chr()`**: Converts an integer representing a Unicode character to the corresponding character.\n",
        "- **`ord()`**: Converts a single character to its corresponding Unicode integer value.\n",
        "- **`hex()`**: Converts an integer to its corresponding hexadecimal string.\n",
        "- **`oct()`**: Converts an integer to its corresponding octal string.\n",
        "- **`bin()`**: Converts an integer to its corresponding binary string."
      ],
      "metadata": {
        "id": "dxe3otln7FSQ"
      }
    },
    {
      "cell_type": "code",
      "source": [
        "number_string = \"3.14\"\n",
        "print(f\"The variable is of {type(number_string)}.\")\n",
        "number_float = float(number_string)\n",
        "print(f\"The variable is of {type(number_float)}.\")\n"
      ],
      "metadata": {
        "id": "MIjmQ0cF67sy"
      },
      "execution_count": null,
      "outputs": []
    },
    {
      "cell_type": "markdown",
      "source": [
        "### Exercises"
      ],
      "metadata": {
        "id": "R3KzXRvD8Ojg"
      }
    },
    {
      "cell_type": "markdown",
      "source": [
        "#### Exercise 1: Easy\n",
        "Create a function called count_symptoms that takes a list of symptoms and returns a dictionary containing the count of each symptom."
      ],
      "metadata": {
        "id": "qmRjOtmf9jG4"
      }
    },
    {
      "cell_type": "code",
      "source": [
        "symptom_list = [\"fever\", \"headache\", \"nausea\", \"headache\", \"fever\", \"nausea\", \"cough\"]\n",
        "# write code Here"
      ],
      "metadata": {
        "id": "eh4y1qYn8S_l"
      },
      "execution_count": null,
      "outputs": []
    },
    {
      "cell_type": "markdown",
      "source": [],
      "metadata": {
        "id": "G6Wcf9CB9iLE"
      }
    },
    {
      "cell_type": "markdown",
      "source": [
        "\n",
        "#### Exercise 2: Medium\n",
        "\n",
        "Create a function called `group_patients_by_age` that takes a dictionary where the keys are patient names and the values are ages. The function should return a new dictionary where the keys are age ranges (as tuples) and the values are lists of patients in those age ranges.\n",
        "\n"
      ],
      "metadata": {
        "id": "GOFwZtLG8yg2"
      }
    },
    {
      "cell_type": "code",
      "source": [
        "patients = {\n",
        "    \"Alice\": 25,\n",
        "    \"Bob\": 35,\n",
        "    \"Carol\": 60,\n",
        "    \"David\": 28,\n",
        "    \"Eve\": 50,\n",
        "    \"Frank\": 45\n",
        "}\n",
        "# write code Here"
      ],
      "metadata": {
        "id": "tm53uCS-85VW"
      },
      "execution_count": null,
      "outputs": []
    },
    {
      "cell_type": "markdown",
      "source": [
        "#### Exercise 3: Hard\n",
        "Create a function called analyze_heart_rates that takes a list of heart rates and calculates the minimum, maximum, and average heart rate. The function should return a dictionary with these values."
      ],
      "metadata": {
        "id": "xaTQ0b2x9K2V"
      }
    },
    {
      "cell_type": "code",
      "source": [
        "heart_rates = [80, 90, 85, 100, 95, 88, 92]\n",
        "# write code Here"
      ],
      "metadata": {
        "id": "qEWL9sG79OVH"
      },
      "execution_count": null,
      "outputs": []
    },
    {
      "cell_type": "markdown",
      "source": [
        "# File Handling"
      ],
      "metadata": {
        "id": "AE0vjqU7jXt-"
      }
    },
    {
      "cell_type": "markdown",
      "source": [
        "\n",
        "In this chapter, we'll learn about file handling operations in Python with Google Colab, including:\n",
        "- Mounting Google Drive\n",
        "- Navigating Google Drive\n",
        "- Opening, reading, writing, and closing files\n",
        "\n",
        "## Mounting Google Drive\n",
        "\n",
        "To access files in your Google Drive, you first need to mount the drive. Run the following code to mount your Google Drive:\n"
      ],
      "metadata": {
        "id": "QrDChomAje1K"
      }
    },
    {
      "cell_type": "code",
      "source": [
        "from google.colab import drive\n",
        "drive.mount('/content/drive')\n"
      ],
      "metadata": {
        "id": "Odnw5Fi_jbjc"
      },
      "execution_count": null,
      "outputs": []
    },
    {
      "cell_type": "markdown",
      "source": [
        "You'll be asked to chose your account and give permission to access the google drive files in pop ups."
      ],
      "metadata": {
        "id": "uAcLMHchj0Zh"
      }
    },
    {
      "cell_type": "markdown",
      "source": [
        "## Navigating Google Drive"
      ],
      "metadata": {
        "id": "fOjjVc_YkF84"
      }
    },
    {
      "cell_type": "code",
      "source": [
        "# lis folder content\n",
        "import os\n",
        "\n",
        "folder_path = \"/content/drive/MyDrive\" \n",
        "folder_contents = os.listdir(folder_path)\n",
        "\n",
        "print(f\"Contents of the folder {folder_path}:\")\n",
        "for item in folder_contents:\n",
        "    print(item)\n",
        "\n"
      ],
      "metadata": {
        "id": "9ALyuu8Nkwqf"
      },
      "execution_count": null,
      "outputs": []
    },
    {
      "cell_type": "code",
      "source": [
        "#change working directory\n",
        "\n",
        "path = \"/content/drive/MyDrive/some_directory\" #change\n",
        "os.chdir(path)\n"
      ],
      "metadata": {
        "id": "eRIfKhcYkEFQ"
      },
      "execution_count": null,
      "outputs": []
    },
    {
      "cell_type": "markdown",
      "source": [
        "## Opening and Reading a File\n",
        "To read a file, use the open() function with the 'r' mode (for reading). Then, use the read() method to read the file's content. Finally, close the file using the close() method.\n",
        "\n",
        "Example:"
      ],
      "metadata": {
        "id": "fqdovpvilRK_"
      }
    },
    {
      "cell_type": "code",
      "source": [
        "file_path = \"/content/PythonIntro/data/healthcare_data.csv\" \n",
        "\n",
        "file = open(file_path, \"r\")\n",
        "content = file.read()\n",
        "print(content)\n",
        "file.close()"
      ],
      "metadata": {
        "id": "zuTlSzellig9"
      },
      "execution_count": null,
      "outputs": []
    },
    {
      "cell_type": "markdown",
      "source": [
        "## Writing to a File\n",
        "To write to a file, use the open() function with the 'w' mode (for writing). Then, use the write() method to write the content to the file. Finally, close the file using the close() method. Note that the 'w' mode will overwrite the file if it exists. Use the 'a' mode (for appending) to add content to an existing file without deleting the current content.\n",
        "\n",
        "Example:"
      ],
      "metadata": {
        "id": "m8xr00r9loDg"
      }
    },
    {
      "cell_type": "code",
      "source": [
        "file_path = \"output.txt\"\n",
        "\n",
        "file = open(file_path, \"w\")\n",
        "file.write(\"Hello, Google Colab!\")\n",
        "file.close()"
      ],
      "metadata": {
        "id": "TM1fzZsMlsJn"
      },
      "execution_count": null,
      "outputs": []
    },
    {
      "cell_type": "markdown",
      "source": [
        "## Using the with Statement\n",
        "When working with files, it's a good practice to use the with statement. It automatically handles closing the file after the block of code is executed, even if an exception occurs.\n",
        "\n",
        "Example:"
      ],
      "metadata": {
        "id": "draT3xW8lyLS"
      }
    },
    {
      "cell_type": "code",
      "source": [
        "file_path = \"/content/PythonIntro/data/healthcare_data.csv\" \n",
        "\n",
        "with open(file_path, \"r\") as file:\n",
        "    content = file.read()\n",
        "    print(content)"
      ],
      "metadata": {
        "id": "Z0kCKRAdl0Vd"
      },
      "execution_count": null,
      "outputs": []
    },
    {
      "cell_type": "markdown",
      "source": [
        "# Chapter: Modules and Packages\n",
        "\n",
        "In this chapter, we'll learn about:\n",
        "- Modules in Python\n",
        "- Importing modules\n",
        "- Creating custom packages\n",
        "- Using package managers like `pip`"
      ],
      "metadata": {
        "id": "NLql2R8am5Uq"
      }
    },
    {
      "cell_type": "markdown",
      "source": [
        "## Modules in Python\n",
        "\n",
        "A module is a Python file containing functions, classes, and other code that you can import and use in your scripts. Modules help organize your code and promote reusability.\n",
        "\n",
        "For example, consider a module named `healthcare_metrics.py` containing the following code:\n",
        "\n",
        "```python\n",
        "def body_mass_index(weight, height):\n",
        "    return weight / (height ** 2)\n",
        "\n",
        "def resting_metabolic_rate(weight, height, age, gender):\n",
        "    if gender == \"male\":\n",
        "        return 88.362 + (13.397 * weight) + (4.799 * height) - (5.677 * age)\n",
        "    elif gender == \"female\":\n",
        "        return 447.593 + (9.247 * weight) + (3.098 * height) - (4.330 * age)\n",
        "    else:\n",
        "        raise ValueError(\"Invalid gender. Accepted values: 'male', 'female'\")\n",
        "\n",
        "```"
      ],
      "metadata": {
        "id": "oMINWlRlqaDj"
      }
    },
    {
      "cell_type": "code",
      "source": [
        "import sys\n",
        "import os\n",
        "\n",
        "# Navigate to the folder containing the healthcare_metrics.py module\n",
        "folder_path = \"/content/PythonIntro/data\"\n",
        "\n",
        "# Add the folder to the Python import path\n",
        "sys.path.append(folder_path)"
      ],
      "metadata": {
        "id": "mJTKoT4jnGvw"
      },
      "execution_count": null,
      "outputs": []
    },
    {
      "cell_type": "markdown",
      "source": [
        "## Importing Modules\n",
        "To use a module's functions or classes, you need to import the module using the import statement. You can then access the module's contents using the module name as a prefix.\n",
        "\n",
        "Example:"
      ],
      "metadata": {
        "id": "oaLxsyqDohQ0"
      }
    },
    {
      "cell_type": "code",
      "source": [
        "import healthcare_metrics\n",
        "\n",
        "weight = 70\n",
        "height = 1.75\n",
        "age = 25\n",
        "gender = \"male\"\n",
        "\n",
        "bmi = healthcare_metrics.body_mass_index(weight, height)\n",
        "rmr = healthcare_metrics.resting_metabolic_rate(weight, height, age, gender)\n",
        "\n",
        "print(f\"Body Mass Index: {bmi}\")\n",
        "print(f\"Resting Metabolic Rate: {rmr} calories/day\")"
      ],
      "metadata": {
        "id": "EBq-wSNfok6u"
      },
      "execution_count": null,
      "outputs": []
    },
    {
      "cell_type": "markdown",
      "source": [
        "## Packages"
      ],
      "metadata": {
        "id": "KB42gA2lsoTd"
      }
    },
    {
      "cell_type": "markdown",
      "source": [
        "Creating custom packages in Python can help you organize your code better, making it more maintainable and reusable. In this step-by-step guide, we will create a custom package named healthcare containing two modules: healthcare_metrics and nutrition. We will not use any external dependencies or data imports.\n",
        "\n",
        "### Step 1: Create the package directory and modules\n",
        "Create a new directory named healthcare. This will be the root directory of your package.\n",
        "Inside the healthcare directory, create an empty file named __init__.py. This file indicates that the directory should be treated as a package.\n",
        "Create two Python files in the healthcare directory named healthcare_metrics.py and nutrition.py. These files will be the modules in your package.\n",
        "Your package structure should look like this:\n",
        "\n",
        "\n",
        "\n",
        "```\n",
        "healthcare/\n",
        "|-- __init__.py\n",
        "|-- healthcare_metrics.py\n",
        "|-- nutrition.py\n",
        "```\n",
        "\n"
      ],
      "metadata": {
        "id": "kQqgrR2bszl6"
      }
    },
    {
      "cell_type": "markdown",
      "source": [
        "### Step 2: Write code for the healthcare_metrics module\n",
        "In the healthcare_metrics.py file, write the following code to define two functions for calculating BMI and RMR:\n",
        "\n",
        "\n",
        "```python\n",
        "def body_mass_index(weight, height):\n",
        "    return weight / (height ** 2)\n",
        "\n",
        "def resting_metabolic_rate(weight, height, age, gender):\n",
        "    if gender == \"male\":\n",
        "        return 88.362 + (13.397 * weight) + (4.799 * height) - (5.677 * age)\n",
        "    elif gender == \"female\":\n",
        "        return 447.593 + (9.247 * weight) + (3.098 * height) - (4.330 * age)\n",
        "    else:\n",
        "        raise ValueError(\"Invalid gender. Accepted values: 'male', 'female'\")\n",
        "```\n",
        "\n"
      ],
      "metadata": {
        "id": "WyRLCc-Pt25b"
      }
    },
    {
      "cell_type": "markdown",
      "source": [
        "### Step 3: Write code for the nutrition module\n",
        "In the nutrition.py file, write the following code to define a function that calculates daily calorie needs based on RMR and activity level:\n",
        "\n",
        "\n",
        "```python\n",
        "def daily_calorie_needs(rmr, activity_level):\n",
        "    activity_multipliers = {\n",
        "        \"sedentary\": 1.2,\n",
        "        \"light\": 1.375,\n",
        "        \"moderate\": 1.55,\n",
        "        \"active\": 1.725,\n",
        "        \"very_active\": 1.9\n",
        "    }\n",
        "\n",
        "    if activity_level not in activity_multipliers:\n",
        "        raise ValueError(\"Invalid activity level. Accepted values: 'sedentary', 'light', 'moderate', 'active', 'very_active'\")\n",
        "\n",
        "    return rmr * activity_multipliers[activity_level]\n",
        "```\n",
        "\n",
        "\n"
      ],
      "metadata": {
        "id": "GByA5K9ruFiA"
      }
    },
    {
      "cell_type": "markdown",
      "source": [
        "### Step 4: Use the custom package in a script\n",
        "Now that you have created the healthcare package with two modules, you can use it in your scripts.\n",
        "\n",
        "In a new Python script (outside the healthcare directory), write the following code:"
      ],
      "metadata": {
        "id": "13VWZs4c2YBd"
      }
    },
    {
      "cell_type": "code",
      "source": [
        "import sys\n",
        "import os\n",
        "\n",
        "# Navigate to the folder the healthcare package folder\n",
        "folder_path = \"/content/PythonIntro\"\n",
        "\n",
        "# Add the folder to the Python import path\n",
        "sys.path.append(folder_path)"
      ],
      "metadata": {
        "id": "KH4SRYK8s12m"
      },
      "execution_count": null,
      "outputs": []
    },
    {
      "cell_type": "code",
      "source": [
        "from healthcare import healthcare_metrics\n",
        "from healthcare import nutrition\n",
        "\n",
        "weight = 70\n",
        "height = 1.75\n",
        "age = 25\n",
        "gender = \"male\"\n",
        "activity_level = \"moderate\"\n",
        "\n",
        "bmi = healthcare_metrics.body_mass_index(weight, height)\n",
        "rmr = healthcare_metrics.resting_metabolic_rate(weight, height, age, gender)\n",
        "daily_calories = nutrition.daily_calorie_needs(rmr, activity_level)\n",
        "\n",
        "print(f\"Body Mass Index: {bmi:.1f}\")\n",
        "print(f\"Resting Metabolic Rate: {rmr:.1f} calories/day\")\n",
        "print(f\"Daily Calorie Needs: {daily_calories:.1f} calories/day\")\n"
      ],
      "metadata": {
        "id": "-Hvw3Vv62nt0"
      },
      "execution_count": null,
      "outputs": []
    },
    {
      "cell_type": "markdown",
      "source": [
        "## Using Package Managers 'pip'\n"
      ],
      "metadata": {
        "id": "8nXon7ym5RyM"
      }
    },
    {
      "cell_type": "markdown",
      "source": [
        "Package managers are essential tools for managing dependencies in your Python projects. In this guide, we will focus on pip, the most popular package manager for Python. We will cover installing packages, managing versions, and other important functions using a healthcare-related example.\n",
        "\n",
        "### Install a package\n",
        "Suppose you want to analyze healthcare data using the popular data manipulation library pandas. To install it, open a terminal or command prompt, and run:"
      ],
      "metadata": {
        "id": "zl05Wz0H5ZPo"
      }
    },
    {
      "cell_type": "code",
      "source": [
        "!pip install pandas"
      ],
      "metadata": {
        "id": "MeHTObME4-gk"
      },
      "execution_count": null,
      "outputs": []
    },
    {
      "cell_type": "markdown",
      "source": [
        "This command installs the latest version of the pandas package.\n",
        "\n",
        "### Use the installed package\n",
        "After installing the pandas package, you can use it in your Python script:"
      ],
      "metadata": {
        "id": "X0PgW_Gu5mnj"
      }
    },
    {
      "cell_type": "code",
      "source": [
        "import pandas as pd\n",
        "\n",
        "# Read healthcare data from a CSV file\n",
        "data = pd.read_csv(\"/content/PythonIntro/data/healthcare_data.csv\")\n",
        "\n",
        "# Perform data analysis using pandas functions\n",
        "average_age = data[\"age\"].mean()\n",
        "gender_counts = data[\"gender\"].value_counts()\n",
        "\n",
        "print(f\"Average Age: {average_age:.1f}\")\n",
        "print(\"Gender Counts:\\n\", gender_counts)\n"
      ],
      "metadata": {
        "id": "xcErnxpj5o0U"
      },
      "execution_count": null,
      "outputs": []
    },
    {
      "cell_type": "markdown",
      "source": [
        "### Manage package versions\n",
        "Sometimes, you may need to use a specific version of a package or upgrade/downgrade a package to a different version. To install a specific version of a package, use the following command:\n",
        "\n",
        "\n",
        "```shell\n",
        "pip install package_name==version_number\n",
        "```\n",
        "\n"
      ],
      "metadata": {
        "id": "k17Ub_UL6Ij1"
      }
    },
    {
      "cell_type": "markdown",
      "source": [
        "For example, to install pandas version 1.1.0, run:"
      ],
      "metadata": {
        "id": "sRrdgf-M6VR-"
      }
    },
    {
      "cell_type": "code",
      "source": [
        "!pip install pandas==1.5.0"
      ],
      "metadata": {
        "id": "MGDRGTHk579y"
      },
      "execution_count": null,
      "outputs": []
    },
    {
      "cell_type": "markdown",
      "source": [
        "To upgrade a package to the latest version, use the following command:\n",
        "\n",
        "```shell\n",
        "pip install --upgrade package_name\n",
        "```\n",
        "\n",
        "\n"
      ],
      "metadata": {
        "id": "q_Ocm6M66iQQ"
      }
    },
    {
      "cell_type": "code",
      "source": [
        "!pip install --upgrade pandas"
      ],
      "metadata": {
        "id": "aMLwcupI6YYT"
      },
      "execution_count": null,
      "outputs": []
    },
    {
      "cell_type": "markdown",
      "source": [
        "### List installed packages and their versions\n",
        "To view all the installed packages and their versions, run the following command:"
      ],
      "metadata": {
        "id": "zjmt2c3W7WT7"
      }
    },
    {
      "cell_type": "code",
      "source": [
        "!pip list"
      ],
      "metadata": {
        "id": "OlKjWBoW7D9T"
      },
      "execution_count": null,
      "outputs": []
    },
    {
      "cell_type": "code",
      "source": [],
      "metadata": {
        "id": "qvuXxOUd7Z5C"
      },
      "execution_count": null,
      "outputs": []
    }
  ]
}